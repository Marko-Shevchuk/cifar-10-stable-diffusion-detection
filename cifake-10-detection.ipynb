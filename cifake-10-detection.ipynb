{
 "cells": [
  {
   "cell_type": "code",
   "execution_count": null,
   "metadata": {
    "execution": {
     "iopub.execute_input": "2024-03-23T15:39:13.422914Z",
     "iopub.status.busy": "2024-03-23T15:39:13.422619Z",
     "iopub.status.idle": "2024-03-23T15:39:27.258861Z",
     "shell.execute_reply": "2024-03-23T15:39:27.258022Z"
    },
    "papermill": {
     "duration": 13.8463,
     "end_time": "2024-03-23T15:39:27.261114",
     "exception": false,
     "start_time": "2024-03-23T15:39:13.414814",
     "status": "completed"
    },
    "tags": []
   },
   "outputs": [],
   "source": [
    "import pandas as pd\n",
    "import numpy as np\n",
    "import os\n",
    "import tensorflow as tf\n",
    "from tensorflow.keras.utils import image_dataset_from_directory\n",
    "from tensorflow import keras\n",
    "from tensorflow.keras import layers\n",
    "from tensorflow.keras.activations import swish\n",
    "from tensorflow.keras.callbacks import TensorBoard\n",
    "import time\n",
    "import matplotlib.pyplot as plt\n",
    "from matplotlib import gridspec"
   ]
  },
  {
   "cell_type": "code",
   "execution_count": null,
   "metadata": {
    "execution": {
     "iopub.execute_input": "2024-03-23T15:39:27.275651Z",
     "iopub.status.busy": "2024-03-23T15:39:27.275115Z",
     "iopub.status.idle": "2024-03-23T15:39:27.279609Z",
     "shell.execute_reply": "2024-03-23T15:39:27.278812Z"
    },
    "papermill": {
     "duration": 0.013897,
     "end_time": "2024-03-23T15:39:27.281716",
     "exception": false,
     "start_time": "2024-03-23T15:39:27.267819",
     "status": "completed"
    },
    "tags": []
   },
   "outputs": [],
   "source": [
    "NAME = \"cifakeCNN{}\".format(time.strftime(\"%Y%m%d-%H%M%S\"))\n",
    "tensorboard = TensorBoard(log_dir=\"logs/{}\".format(NAME))"
   ]
  },
  {
   "cell_type": "code",
   "execution_count": null,
   "metadata": {
    "execution": {
     "iopub.execute_input": "2024-03-23T15:39:27.296070Z",
     "iopub.status.busy": "2024-03-23T15:39:27.295801Z",
     "iopub.status.idle": "2024-03-23T15:39:27.596026Z",
     "shell.execute_reply": "2024-03-23T15:39:27.595106Z"
    },
    "papermill": {
     "duration": 0.309483,
     "end_time": "2024-03-23T15:39:27.598333",
     "exception": false,
     "start_time": "2024-03-23T15:39:27.288850",
     "status": "completed"
    },
    "tags": []
   },
   "outputs": [],
   "source": [
    "print(\"Number of GPUs Available: \", len(tf.config.list_physical_devices('GPU')))"
   ]
  },
  {
   "cell_type": "code",
   "execution_count": null,
   "metadata": {
    "execution": {
     "iopub.execute_input": "2024-03-23T15:39:27.612431Z",
     "iopub.status.busy": "2024-03-23T15:39:27.612163Z",
     "iopub.status.idle": "2024-03-23T15:39:27.616140Z",
     "shell.execute_reply": "2024-03-23T15:39:27.615336Z"
    },
    "papermill": {
     "duration": 0.013049,
     "end_time": "2024-03-23T15:39:27.617926",
     "exception": false,
     "start_time": "2024-03-23T15:39:27.604877",
     "status": "completed"
    },
    "tags": []
   },
   "outputs": [],
   "source": [
    "# gpus = tf.config.list_physical_devices('GPU')\n",
    "# if gpus:\n",
    "#   # \"\"\"Restrict TensorFlow to only allocate 1GB of memory on the first GPU\"\"\"\n",
    "#   try:\n",
    "#     tf.config.set_logical_device_configuration(\n",
    "#         gpus[0],\n",
    "#         [tf.config.LogicalDeviceConfiguration(memory_limit=1024)])\n",
    "#     logical_gpus = tf.config.list_logical_devices('GPU')\n",
    "#     print(len(gpus), \"Physical GPUs,\", len(logical_gpus), \"Logical GPUs\")\n",
    "#   except RuntimeError as e:\n",
    "#     # Virtual devices must be set before GPUs have been initialized\n",
    "#     print(e)"
   ]
  },
  {
   "cell_type": "code",
   "execution_count": null,
   "metadata": {
    "execution": {
     "iopub.execute_input": "2024-03-23T15:39:27.631617Z",
     "iopub.status.busy": "2024-03-23T15:39:27.631348Z",
     "iopub.status.idle": "2024-03-23T15:39:27.634718Z",
     "shell.execute_reply": "2024-03-23T15:39:27.633950Z"
    },
    "papermill": {
     "duration": 0.012325,
     "end_time": "2024-03-23T15:39:27.636598",
     "exception": false,
     "start_time": "2024-03-23T15:39:27.624273",
     "status": "completed"
    },
    "tags": []
   },
   "outputs": [],
   "source": [
    "# \"\"\"When running locally, limits the threads to 1 (only uses one thread of one CPU core)\"\"\"\n",
    "# tf.config.threading.set_intra_op_parallelism_threads(1)\n",
    "# tf.config.threading.set_inter_op_parallelism_threads(1)"
   ]
  },
  {
   "cell_type": "code",
   "execution_count": 1,
   "metadata": {},
   "outputs": [],
   "source": [
    "# \"\"\"When running on Kaggle, copies the input directory cifake_hyperband to the working directory for tuner continuity / cumulative session training.\"\"\"\n",
    "# from distutils.dir_util import copy_tree\n",
    "# input_dir = \"/kaggle/input/cifake_hyperband/\"\n",
    "# destination_dir = \"/kaggle/working/\"\n",
    "# copy_tree(input_dir, destination_dir)"
   ]
  },
  {
   "cell_type": "code",
   "execution_count": null,
   "metadata": {
    "execution": {
     "iopub.execute_input": "2024-03-23T15:39:27.650411Z",
     "iopub.status.busy": "2024-03-23T15:39:27.650138Z",
     "iopub.status.idle": "2024-03-23T15:41:10.508859Z",
     "shell.execute_reply": "2024-03-23T15:41:10.507844Z"
    },
    "papermill": {
     "duration": 102.868315,
     "end_time": "2024-03-23T15:41:10.511164",
     "exception": false,
     "start_time": "2024-03-23T15:39:27.642849",
     "status": "completed"
    },
    "tags": []
   },
   "outputs": [],
   "source": [
    "ds_train = image_dataset_from_directory(\n",
    "    '/kaggle/input/cifake-real-and-ai-generated-synthetic-images/train',\n",
    "    labels='inferred',\n",
    "    label_mode='binary',\n",
    "    image_size=[32,32],\n",
    "    interpolation='nearest',\n",
    "    batch_size=32,\n",
    "    shuffle=True,\n",
    "#     seed=69,\n",
    "    #validation_split=None,\n",
    "    subset=None,\n",
    "    follow_links=False,\n",
    "    crop_to_aspect_ratio=False,\n",
    ")"
   ]
  },
  {
   "cell_type": "code",
   "execution_count": null,
   "metadata": {
    "execution": {
     "iopub.execute_input": "2024-03-23T15:41:10.525535Z",
     "iopub.status.busy": "2024-03-23T15:41:10.525216Z",
     "iopub.status.idle": "2024-03-23T15:41:28.517736Z",
     "shell.execute_reply": "2024-03-23T15:41:28.516963Z"
    },
    "papermill": {
     "duration": 18.002093,
     "end_time": "2024-03-23T15:41:28.519977",
     "exception": false,
     "start_time": "2024-03-23T15:41:10.517884",
     "status": "completed"
    },
    "tags": []
   },
   "outputs": [],
   "source": [
    "ds_test = image_dataset_from_directory(\n",
    "    '/kaggle/input/cifake-real-and-ai-generated-synthetic-images/test',\n",
    "    labels='inferred',\n",
    "    label_mode='binary',\n",
    "    image_size=[32,32],\n",
    "    interpolation='nearest',\n",
    "    batch_size=32,\n",
    "    shuffle=True,\n",
    "#     seed=69,\n",
    "    #validation_split=None,\n",
    "    subset=None,\n",
    "    follow_links=False,\n",
    "    crop_to_aspect_ratio=False,\n",
    ")"
   ]
  },
  {
   "cell_type": "code",
   "execution_count": null,
   "metadata": {
    "execution": {
     "iopub.execute_input": "2024-03-23T15:41:28.535763Z",
     "iopub.status.busy": "2024-03-23T15:41:28.535183Z",
     "iopub.status.idle": "2024-03-23T15:41:28.539622Z",
     "shell.execute_reply": "2024-03-23T15:41:28.538824Z"
    },
    "papermill": {
     "duration": 0.01465,
     "end_time": "2024-03-23T15:41:28.541426",
     "exception": false,
     "start_time": "2024-03-23T15:41:28.526776",
     "status": "completed"
    },
    "tags": []
   },
   "outputs": [],
   "source": [
    "def convert_to_float(image, label):\n",
    "    image = tf.image.convert_image_dtype(image, dtype=tf.float32)\n",
    "    return image, label\n",
    "\n",
    "AUTOTUNE = tf.data.experimental.AUTOTUNE\n"
   ]
  },
  {
   "cell_type": "code",
   "execution_count": null,
   "metadata": {
    "execution": {
     "iopub.execute_input": "2024-03-23T15:41:28.555438Z",
     "iopub.status.busy": "2024-03-23T15:41:28.554957Z",
     "iopub.status.idle": "2024-03-23T15:41:28.609389Z",
     "shell.execute_reply": "2024-03-23T15:41:28.608535Z"
    },
    "papermill": {
     "duration": 0.06361,
     "end_time": "2024-03-23T15:41:28.611485",
     "exception": false,
     "start_time": "2024-03-23T15:41:28.547875",
     "status": "completed"
    },
    "tags": []
   },
   "outputs": [],
   "source": [
    "ds_train = (\n",
    "    ds_train\n",
    "    .map(convert_to_float)\n",
    "    .cache()\n",
    "    .prefetch(buffer_size=AUTOTUNE)\n",
    ")\n"
   ]
  },
  {
   "cell_type": "code",
   "execution_count": null,
   "metadata": {
    "execution": {
     "iopub.execute_input": "2024-03-23T15:41:28.625998Z",
     "iopub.status.busy": "2024-03-23T15:41:28.625493Z",
     "iopub.status.idle": "2024-03-23T15:41:28.641223Z",
     "shell.execute_reply": "2024-03-23T15:41:28.640385Z"
    },
    "papermill": {
     "duration": 0.025031,
     "end_time": "2024-03-23T15:41:28.643178",
     "exception": false,
     "start_time": "2024-03-23T15:41:28.618147",
     "status": "completed"
    },
    "tags": []
   },
   "outputs": [],
   "source": [
    "ds_valid = (\n",
    "    ds_test\n",
    "    .map(convert_to_float)\n",
    "    .cache()\n",
    "    .prefetch(buffer_size=AUTOTUNE)\n",
    ")"
   ]
  },
  {
   "cell_type": "code",
   "execution_count": null,
   "metadata": {
    "execution": {
     "iopub.execute_input": "2024-03-23T15:41:28.657961Z",
     "iopub.status.busy": "2024-03-23T15:41:28.657215Z",
     "iopub.status.idle": "2024-03-23T15:41:28.661335Z",
     "shell.execute_reply": "2024-03-23T15:41:28.660564Z"
    },
    "papermill": {
     "duration": 0.013521,
     "end_time": "2024-03-23T15:41:28.663108",
     "exception": false,
     "start_time": "2024-03-23T15:41:28.649587",
     "status": "completed"
    },
    "tags": []
   },
   "outputs": [],
   "source": [
    "early_stopping = keras.callbacks.EarlyStopping(\n",
    "    monitor='val_loss',\n",
    "    patience=15,\n",
    "    min_delta=0.001,\n",
    "    restore_best_weights=True)"
   ]
  },
  {
   "cell_type": "code",
   "execution_count": null,
   "metadata": {
    "execution": {
     "iopub.execute_input": "2024-03-23T15:41:28.676866Z",
     "iopub.status.busy": "2024-03-23T15:41:28.676554Z",
     "iopub.status.idle": "2024-03-23T15:41:28.681346Z",
     "shell.execute_reply": "2024-03-23T15:41:28.680555Z"
    },
    "papermill": {
     "duration": 0.013686,
     "end_time": "2024-03-23T15:41:28.683142",
     "exception": false,
     "start_time": "2024-03-23T15:41:28.669456",
     "status": "completed"
    },
    "tags": []
   },
   "outputs": [],
   "source": [
    "from tensorflow.keras.callbacks import ReduceLROnPlateau\n",
    "reduce_lr = ReduceLROnPlateau(monitor='val_loss', factor=0.5, patience=7, min_lr=0.0008)"
   ]
  },
  {
   "cell_type": "code",
   "execution_count": null,
   "metadata": {
    "execution": {
     "iopub.execute_input": "2024-03-23T15:41:28.697202Z",
     "iopub.status.busy": "2024-03-23T15:41:28.696597Z",
     "iopub.status.idle": "2024-03-23T15:41:28.700978Z",
     "shell.execute_reply": "2024-03-23T15:41:28.700151Z"
    },
    "papermill": {
     "duration": 0.013319,
     "end_time": "2024-03-23T15:41:28.702897",
     "exception": false,
     "start_time": "2024-03-23T15:41:28.689578",
     "status": "completed"
    },
    "tags": []
   },
   "outputs": [],
   "source": [
    "# from tensorflow.keras.callbacks import ModelCheckpoint\n",
    "# timestamp = time.strftime(\"%Y%m%d-%H%M%S\")\n",
    "# model_checkpoint = ModelCheckpoint(\n",
    "#     f'/kaggle/working/best/best_model_{timestamp}.keras', monitor='val_loss', save_best_only=True, mode='min'\n",
    "# )"
   ]
  },
  {
   "cell_type": "code",
   "execution_count": null,
   "metadata": {
    "execution": {
     "iopub.execute_input": "2024-03-23T15:41:28.717306Z",
     "iopub.status.busy": "2024-03-23T15:41:28.716691Z",
     "iopub.status.idle": "2024-03-23T15:41:28.898936Z",
     "shell.execute_reply": "2024-03-23T15:41:28.898096Z"
    },
    "papermill": {
     "duration": 0.191459,
     "end_time": "2024-03-23T15:41:28.900860",
     "exception": false,
     "start_time": "2024-03-23T15:41:28.709401",
     "status": "completed"
    },
    "tags": []
   },
   "outputs": [],
   "source": [
    "def MBConv6(input_tensor, hp=None, out_channels=32, expansion=6, squeezing=4, use_se=True, dropout_rate=0.0):\n",
    "    # inverted residual structure\n",
    "    # pointwise convolution 1 expansion\n",
    "    x = layers.Conv2D(expansion * input_tensor.shape[-1], (1,  1), padding='same', use_bias=False)(input_tensor)\n",
    "    x = layers.BatchNormalization()(x)\n",
    "    x = layers.Activation(swish)(x)\n",
    "\n",
    "    # Depthwise Separable Convolution \n",
    "    x = layers.DepthwiseConv2D(kernel_size=(3,  3), strides=(1,  1), padding='same', use_bias=False)(x)\n",
    "    x = layers.BatchNormalization()(x)\n",
    "    x = layers.Activation(swish)(x)\n",
    "\n",
    "    # pointwise convolution 2 bottleneck\n",
    "    x = layers.Conv2D(out_channels, (1,  1), padding='same', use_bias=False)(x)\n",
    "    x = layers.BatchNormalization()(x)\n",
    "\n",
    "    # Dropout\n",
    "    if dropout_rate >  0.0:\n",
    "        x = layers.Dropout(dropout_rate)(x)\n",
    "\n",
    "    # bottleneck\n",
    "    x = layers.Conv2D(out_channels, (1,  1), padding='same', use_bias=False)(x)\n",
    "    x = layers.BatchNormalization()(x)\n",
    "\n",
    "    # Squeeze-and-Excitation\n",
    "    if use_se:\n",
    "        se_shape = (1,  1, out_channels)\n",
    "        se = layers.GlobalAveragePooling2D()(x)\n",
    "        se = layers.Reshape(se_shape)(se)\n",
    "        se = layers.Conv2D(out_channels // squeezing, (1,  1), padding='same', use_bias=True)(se)\n",
    "        se = layers.Activation(swish)(se)\n",
    "        se = layers.Conv2D(out_channels, (1,  1), padding='same', use_bias=True)(se)\n",
    "        se = layers.Activation('sigmoid')(se)\n",
    "        x = layers.Multiply()([x, se])\n",
    "\n",
    "    # Residual\n",
    "    if input_tensor.shape[-1] == out_channels:\n",
    "        shortcut = input_tensor\n",
    "    else:\n",
    "        shortcut = layers.Conv2D(out_channels, (1,  1), strides=(1,  1), padding='same', use_bias=False)(input_tensor)\n",
    "        shortcut = layers.BatchNormalization()(shortcut)\n",
    "\n",
    "    x = layers.Add()([x, shortcut])\n",
    "\n",
    "    return x\n",
    "input_tensor = layers.Input(shape=(32,  32,  16)) \n",
    "output_tensor = MBConv6(input_tensor)\n",
    "model = keras.models.Model(inputs=input_tensor, outputs=output_tensor)\n",
    "\n",
    "model.summary()"
   ]
  },
  {
   "cell_type": "code",
   "execution_count": null,
   "metadata": {
    "execution": {
     "iopub.execute_input": "2024-03-23T15:41:28.917840Z",
     "iopub.status.busy": "2024-03-23T15:41:28.917257Z",
     "iopub.status.idle": "2024-03-23T15:41:29.038939Z",
     "shell.execute_reply": "2024-03-23T15:41:29.038065Z"
    },
    "papermill": {
     "duration": 0.132116,
     "end_time": "2024-03-23T15:41:29.040757",
     "exception": false,
     "start_time": "2024-03-23T15:41:28.908641",
     "status": "completed"
    },
    "tags": []
   },
   "outputs": [],
   "source": [
    "\n",
    "def MBConv1(input_tensor, hp=None, expansion=4, squeezing=4, out_channels=16, strides=(1,   1), use_se=True):\n",
    "\n",
    "    x = layers.Conv2D(expansion, (1,   1), padding='same', use_bias=False)(input_tensor)\n",
    "    x = layers.BatchNormalization()(x)\n",
    "    x = layers.Activation(swish)(x)\n",
    "\n",
    "\n",
    "    x = layers.DepthwiseConv2D(kernel_size=(3,   3), strides=strides, padding='same', use_bias=False)(x)\n",
    "    x = layers.BatchNormalization()(x)\n",
    "    x = layers.Activation(swish)(x) \n",
    "\n",
    "\n",
    "    x = layers.Conv2D(out_channels, (1,   1), padding='same', use_bias=False)(x)\n",
    "    x = layers.BatchNormalization()(x)\n",
    "\n",
    "    # Squeeze-and-Excitation\n",
    "    if use_se:\n",
    "        se_shape = (1,  1, out_channels)\n",
    "        se = layers.GlobalAveragePooling2D()(x)\n",
    "        se = layers.Reshape((1,  1, out_channels))(se) \n",
    "        se = layers.Conv2D(out_channels //  squeezing, (1,  1), padding='same', use_bias=True)(se) \n",
    "        se = layers.Activation(swish)(se)   \n",
    "        se = layers.Conv2D(out_channels, (1,  1), padding='same', use_bias=True)(se) \n",
    "        se = layers.Activation('sigmoid')(se)\n",
    "        se = layers.Reshape(se_shape[1:])(se)  # Reshape to original\n",
    "        x = layers.Multiply()([x, se])\n",
    "\n",
    "    # Residual\n",
    "    if input_tensor.shape[-1] == out_channels and strides == (1,   1):\n",
    "        x = layers.Add()([x, input_tensor])\n",
    "    else:\n",
    "        input_tensor = layers.Conv2D(out_channels, (1,   1), strides=strides, padding='same', use_bias=False)(input_tensor)\n",
    "        x = layers.Add()([x, input_tensor])\n",
    "\n",
    "    return x\n",
    "\n",
    "input_tensor = layers.Input(shape=(32,  32,  3)) \n",
    "output_tensor = MBConv1(input_tensor)\n",
    "model = keras.models.Model(inputs=input_tensor, outputs=output_tensor)\n",
    "\n",
    "model.summary()"
   ]
  },
  {
   "cell_type": "code",
   "execution_count": null,
   "metadata": {
    "execution": {
     "iopub.execute_input": "2024-03-23T15:41:29.059415Z",
     "iopub.status.busy": "2024-03-23T15:41:29.059141Z",
     "iopub.status.idle": "2024-03-23T15:41:30.446985Z",
     "shell.execute_reply": "2024-03-23T15:41:30.446222Z"
    },
    "papermill": {
     "duration": 1.3997,
     "end_time": "2024-03-23T15:41:30.449198",
     "exception": false,
     "start_time": "2024-03-23T15:41:29.049498",
     "status": "completed"
    },
    "tags": []
   },
   "outputs": [],
   "source": [
    "import keras_tuner\n",
    "from keras_tuner import RandomSearch, Hyperband\n",
    "from tensorflow.keras.models import Model\n",
    "\n",
    "def build_model(hp=None):\n",
    "    activation_function = activation=hp.Choice('ACTIVATION', values=['swish', 'mish', 'gelu', 'silu'])\n",
    "    input_tensor = layers.Input(shape=[32,  32,  3])\n",
    "    x = layers.Reshape(target_shape=(32, 32, 3))(input_tensor)\n",
    "    \n",
    "    # x = layers.RandomRotation(factor=0.1488228133769420)(input_tensor)\n",
    "    x = layers.RandomTranslation(\n",
    "        height_factor=hp.Float('height_factor', min_value=0.0001, max_value=0.1, sampling='log'),\n",
    "        width_factor=hp.Float('width_factor', min_value=0.0001, max_value=0.1, sampling='log')\n",
    "    )(x)\n",
    "    if hp.Boolean('PREPROCESSING_horizontal'):\n",
    "        x = layers.RandomFlip(mode='horizontal')(x)\n",
    "    # x = layers.BatchNormalization()(x)\n",
    "    if hp.Boolean('PRECONV_norm'):\n",
    "        x = layers.BatchNormalization()(x)\n",
    "\n",
    "    # x = MBConv1(x, hp=hp)\n",
    "    for i in range(hp.Int('num_MBconv_layers', min_value=1, max_value=3, step=1)):\n",
    "        x = MBConv6(x, hp=hp, out_channels=hp.Int('out_channels_1', min_value=38, max_value=56, step=2),\n",
    "                    expansion=hp.Int('expansion_1', min_value=6, max_value=10, step=1),\n",
    "                    squeezing=hp.Int('squeezing_1', min_value=1, max_value=8, step=1),\n",
    "                    use_se=hp.Boolean('use_se_1'),\n",
    "                    dropout_rate=hp.Float('conv6_dropout_rate_1', min_value=0.0, max_value=0.2, step=0.1))\n",
    "        if hp.Boolean(f'POSTMBCONV_norm'):\n",
    "            x = layers.BatchNormalization()(x)\n",
    "    for i in range(hp.Int('num_conv_layers', min_value=2, max_value=6, step=1)):   \n",
    "        x = layers.Conv2D(filters=hp.Int(f'conv_{i}_filter', min_value=42, max_value=54, step=6),\n",
    "                      kernel_size=hp.Choice(f'conv_{i}_kernel', values=[3,  4, 5]),\n",
    "                      activation=activation_function, padding='same',\n",
    "                      kernel_regularizer=keras.regularizers.l2(0.003) if hp.Boolean('l2_reg') else None)(x)\n",
    "        x = layers.Dropout(hp.Float(f'CONV_dropout_{i}_rate', min_value=0.0, max_value=0.1, step=0.1))(x)\n",
    "        if hp.Boolean(f'CONV_{i}_pooling'):\n",
    "            x = layers.MaxPool2D()(x)\n",
    "        if hp.Boolean(f'CONV_{i}_norm'):\n",
    "            x = layers.BatchNormalization()(x)\n",
    "        \n",
    "    \n",
    "    \n",
    "    if hp.Boolean('use_maxpool_final'):\n",
    "        x = layers.MaxPool2D()(x)\n",
    "    if hp.Boolean('use_batchnorm_final'):\n",
    "        x = layers.BatchNormalization()(x)\n",
    "    x = layers.Flatten()(x)\n",
    "\n",
    "    for i in range(hp.Int('num_dense_layers', min_value=6, max_value=12, step=1)):   \n",
    "        x = layers.Dense(hp.Int(f'dense_{i}_units', min_value=444, max_value=544, step=32),\n",
    "                         activation=activation_function,\n",
    "                         kernel_regularizer=keras.regularizers.l2(0.003) if hp.Boolean('l2_reg') else None)(x)\n",
    "        x = layers.Dropout(hp.Float(f'dropout_{i}_rate', min_value=0.0, max_value=0.6, step=0.1))(x)\n",
    "    \n",
    "    x = layers.Dense(1, activation='sigmoid')(x)\n",
    "    \n",
    "    optimizer_choice = hp.Choice('optimizer', values=['Adam', 'SGD', 'RMSprop', 'Adagrad', 'Adadelta', 'Adamax', 'Nadam'])\n",
    "    \n",
    "    if optimizer_choice == 'Adam':\n",
    "        optimizer = tf.keras.optimizers.Adam(learning_rate=hp.Float('learning_rate', min_value=0.002, max_value=0.01, sampling='LOG'))\n",
    "    elif optimizer_choice == 'SGD':\n",
    "        optimizer = tf.keras.optimizers.SGD(learning_rate=hp.Float('sgd_learning_rate', min_value=0.002, max_value=0.01, sampling='LOG'))\n",
    "    elif optimizer_choice == 'RMSprop':\n",
    "        optimizer = tf.keras.optimizers.RMSprop(learning_rate=hp.Float('rmsprop_learning_rate', min_value=0.002, max_value=0.01, sampling='LOG'))\n",
    "    elif optimizer_choice == 'Adagrad':\n",
    "        optimizer = tf.keras.optimizers.Adagrad(learning_rate=hp.Float('adagrad_learning_rate', min_value=0.002, max_value=0.01, sampling='LOG'))\n",
    "    elif optimizer_choice == 'Adadelta':\n",
    "        optimizer = tf.keras.optimizers.Adadelta(learning_rate=hp.Float('adadelta_learning_rate', min_value=0.002, max_value=0.01, sampling='LOG'))\n",
    "    elif optimizer_choice == 'Adamax':\n",
    "        optimizer = tf.keras.optimizers.Adamax(learning_rate=hp.Float('adamax_learning_rate', min_value=0.002, max_value=0.01, sampling='LOG'))\n",
    "    elif optimizer_choice == 'Nadam':\n",
    "        optimizer = tf.keras.optimizers.Nadam(learning_rate=hp.Float('nadam_learning_rate', min_value=0.002, max_value=0.01, sampling='LOG'))\n",
    "    \n",
    "    model = Model(inputs=input_tensor, outputs=x)\n",
    "    model.compile(optimizer=optimizer,\n",
    "                 loss='binary_crossentropy',\n",
    "                 metrics=['binary_accuracy'])\n",
    "    return model\n"
   ]
  },
  {
   "cell_type": "code",
   "execution_count": null,
   "metadata": {
    "execution": {
     "iopub.execute_input": "2024-03-23T15:41:30.468459Z",
     "iopub.status.busy": "2024-03-23T15:41:30.467400Z",
     "iopub.status.idle": "2024-03-23T15:41:30.632007Z",
     "shell.execute_reply": "2024-03-23T15:41:30.631099Z"
    },
    "papermill": {
     "duration": 0.175897,
     "end_time": "2024-03-23T15:41:30.633936",
     "exception": false,
     "start_time": "2024-03-23T15:41:30.458039",
     "status": "completed"
    },
    "tags": []
   },
   "outputs": [],
   "source": [
    "tuner = Hyperband(\n",
    "    build_model,\n",
    "    objective='val_binary_accuracy',\n",
    "    max_epochs=30,\n",
    "    factor=3,\n",
    "    directory='/kaggle/working/projects',\n",
    "    project_name='cifake_hyperband')"
   ]
  },
  {
   "cell_type": "code",
   "execution_count": null,
   "metadata": {
    "execution": {
     "iopub.execute_input": "2024-03-23T15:41:30.653190Z",
     "iopub.status.busy": "2024-03-23T15:41:30.652414Z",
     "iopub.status.idle": "2024-03-23T23:14:05.461846Z",
     "shell.execute_reply": "2024-03-23T23:14:05.460870Z"
    },
    "papermill": {
     "duration": 27154.821941,
     "end_time": "2024-03-23T23:14:05.464891",
     "exception": false,
     "start_time": "2024-03-23T15:41:30.642950",
     "status": "completed"
    },
    "tags": []
   },
   "outputs": [],
   "source": [
    "# Start the hyperparameter search with early stopping\n",
    "tuner.search(ds_train, epochs=30, validation_data=ds_valid, callbacks=[early_stopping, tensorboard, reduce_lr]) #model_checkpoint\n",
    "\n",
    "best_model = tuner.get_best_models(num_models=1)[0]"
   ]
  },
  {
   "cell_type": "code",
   "execution_count": null,
   "metadata": {
    "execution": {
     "iopub.execute_input": "2024-03-23T23:14:05.485575Z",
     "iopub.status.busy": "2024-03-23T23:14:05.485240Z",
     "iopub.status.idle": "2024-03-23T23:14:05.555811Z",
     "shell.execute_reply": "2024-03-23T23:14:05.554958Z"
    },
    "papermill": {
     "duration": 0.083178,
     "end_time": "2024-03-23T23:14:05.558641",
     "exception": false,
     "start_time": "2024-03-23T23:14:05.475463",
     "status": "completed"
    },
    "tags": []
   },
   "outputs": [],
   "source": [
    "best_model.summary()"
   ]
  },
  {
   "cell_type": "code",
   "execution_count": null,
   "metadata": {
    "execution": {
     "iopub.execute_input": "2024-03-23T23:14:05.580356Z",
     "iopub.status.busy": "2024-03-23T23:14:05.579877Z",
     "iopub.status.idle": "2024-03-23T23:14:05.588005Z",
     "shell.execute_reply": "2024-03-23T23:14:05.587087Z"
    },
    "papermill": {
     "duration": 0.021383,
     "end_time": "2024-03-23T23:14:05.590357",
     "exception": false,
     "start_time": "2024-03-23T23:14:05.568974",
     "status": "completed"
    },
    "tags": []
   },
   "outputs": [],
   "source": [
    "tuner.results_summary()"
   ]
  },
  {
   "cell_type": "code",
   "execution_count": null,
   "metadata": {
    "execution": {
     "iopub.execute_input": "2024-03-23T23:14:05.612913Z",
     "iopub.status.busy": "2024-03-23T23:14:05.612402Z",
     "iopub.status.idle": "2024-03-23T23:14:05.730575Z",
     "shell.execute_reply": "2024-03-23T23:14:05.729647Z"
    },
    "papermill": {
     "duration": 0.131977,
     "end_time": "2024-03-23T23:14:05.733002",
     "exception": false,
     "start_time": "2024-03-23T23:14:05.601025",
     "status": "completed"
    },
    "tags": []
   },
   "outputs": [],
   "source": [
    "best_model.save(f\"/kaggle/working/BEST{NAME}.keras\")"
   ]
  }
 ],
 "metadata": {
  "kaggle": {
   "accelerator": "nvidiaTeslaT4",
   "dataSources": [
    {
     "datasetId": 3041726,
     "sourceId": 5256696,
     "sourceType": "datasetVersion"
    }
   ],
   "dockerImageVersionId": 30674,
   "isGpuEnabled": true,
   "isInternetEnabled": true,
   "language": "python",
   "sourceType": "notebook"
  },
  "kernelspec": {
   "display_name": "Python 3 (ipykernel)",
   "language": "python",
   "name": "python3"
  },
  "language_info": {
   "codemirror_mode": {
    "name": "ipython",
    "version": 3
   },
   "file_extension": ".py",
   "mimetype": "text/x-python",
   "name": "python",
   "nbconvert_exporter": "python",
   "pygments_lexer": "ipython3",
   "version": "3.11.0"
  },
  "papermill": {
   "default_parameters": {},
   "duration": 27299.651207,
   "end_time": "2024-03-23T23:14:10.167668",
   "environment_variables": {},
   "exception": null,
   "input_path": "__notebook__.ipynb",
   "output_path": "__notebook__.ipynb",
   "parameters": {},
   "start_time": "2024-03-23T15:39:10.516461",
   "version": "2.5.0"
  }
 },
 "nbformat": 4,
 "nbformat_minor": 4
}
