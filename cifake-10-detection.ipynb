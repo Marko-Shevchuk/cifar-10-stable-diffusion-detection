{
 "cells": [
  {
   "cell_type": "code",
   "execution_count": null,
   "metadata": {
    "executionInfo": {
     "elapsed": 302,
     "status": "ok",
     "timestamp": 1714439625651,
     "user": {
      "displayName": "Normal Human Person",
      "userId": "03663057191322261591"
     },
     "user_tz": -180
    },
    "id": "980ee2a9",
    "papermill": {
     "duration": 11.269116,
     "end_time": "2024-05-13T00:33:12.191523",
     "exception": false,
     "start_time": "2024-05-13T00:33:00.922407",
     "status": "completed"
    },
    "tags": []
   },
   "outputs": [],
   "source": [
    "\n",
    "#  Copyright 2024 Marko Shevchuk, Yevhen Selepii, Marian Starovoitov, Vadym\n",
    "#  Tsvyk, Nataliia Tymkiv, Nadiia Honcharyk \n",
    "\n",
    "#  This file is part of cifar-10-stable-diffusion-detection on GitHub.\n",
    "\n",
    "#  cifar-10-stable-diffusion-detection is free software: you can redistribute\n",
    "#  it and/or modify it under the terms of the GNU General Public License as published by\n",
    "#  the Free Software Foundation, either version 3 of the License, or\n",
    "#  (at your option) any later version.\n",
    "\n",
    "#  cifar-10-stable-diffusion-detection is distributed in the hope that it will be useful,\n",
    "#  but WITHOUT ANY WARRANTY; without even the implied warranty of\n",
    "#  MERCHANTABILITY or FITNESS FOR A PARTICULAR PURPOSE.  See the\n",
    "#  GNU General Public License for more details.\n",
    "\n",
    "#  You should have received a copy of the GNU General Public License\n",
    "#  along with cifar-10-stable-diffusion-detection. If not, see http://www.gnu.org/licenses/.\n"
   ]
  },
  {
   "cell_type": "code",
   "execution_count": null,
   "metadata": {
    "executionInfo": {
     "elapsed": 302,
     "status": "ok",
     "timestamp": 1714439625651,
     "user": {
      "displayName": "Normal Human Person",
      "userId": "03663057191322261591"
     },
     "user_tz": -180
    },
    "id": "980ee2a9",
    "papermill": {
     "duration": 11.269116,
     "end_time": "2024-05-13T00:33:12.191523",
     "exception": false,
     "start_time": "2024-05-13T00:33:00.922407",
     "status": "completed"
    },
    "tags": []
   },
   "outputs": [],
   "source": [
    "import pandas as pd\n",
    "import numpy as np\n",
    "import os\n",
    "import tensorflow as tf\n",
    "from keras.utils import image_dataset_from_directory\n",
    "from tensorflow import keras\n",
    "from keras import layers\n",
    "from keras.activations import swish\n",
    "from keras.callbacks import TensorBoard\n",
    "import time\n",
    "import matplotlib.pyplot as plt\n",
    "from matplotlib import gridspec\n",
    "from tensorflow.keras import backend as K"
   ]
  },
  {
   "cell_type": "code",
   "execution_count": null,
   "metadata": {
    "executionInfo": {
     "elapsed": 15,
     "status": "ok",
     "timestamp": 1714439627896,
     "user": {
      "displayName": "Normal Human Person",
      "userId": "03663057191322261591"
     },
     "user_tz": -180
    },
    "id": "0395682b",
    "outputId": "8faf5baa-e8f2-483a-eb1e-9c5603b84006",
    "papermill": {
     "duration": 0.221844,
     "end_time": "2024-05-13T00:33:12.466026",
     "exception": false,
     "start_time": "2024-05-13T00:33:12.244182",
     "status": "completed"
    },
    "tags": []
   },
   "outputs": [],
   "source": [
    "print(\"Num GPUs Available: \", len(tf.config.list_physical_devices('GPU')))\n",
    "RUNNING_WITH_LIMITED_GPU = False\n",
    "RUNNING_WITH_LIMITED_CPU = False\n",
    "RESTORE_KAGGLE_DIRECTORY_FROM_DATASET = False"
   ]
  },
  {
   "cell_type": "code",
   "execution_count": null,
   "metadata": {
    "executionInfo": {
     "elapsed": 11,
     "status": "ok",
     "timestamp": 1714439627896,
     "user": {
      "displayName": "Normal Human Person",
      "userId": "03663057191322261591"
     },
     "user_tz": -180
    },
    "id": "e3095e27",
    "papermill": {
     "duration": 0.01763,
     "end_time": "2024-05-13T00:33:12.494530",
     "exception": false,
     "start_time": "2024-05-13T00:33:12.476900",
     "status": "completed"
    },
    "tags": []
   },
   "outputs": [],
   "source": [
    "input_dir = \"/kaggle/input/cifar-10-fake-image-dataset/cifar-10-dataset/\" #! Kaggle path\n",
    "working_dir = \"/kaggle/working/\" #! Kaggle path"
   ]
  },
  {
   "cell_type": "code",
   "execution_count": null,
   "metadata": {
    "executionInfo": {
     "elapsed": 10,
     "status": "ok",
     "timestamp": 1714439627896,
     "user": {
      "displayName": "Normal Human Person",
      "userId": "03663057191322261591"
     },
     "user_tz": -180
    },
    "id": "8ed4aa18",
    "papermill": {
     "duration": 0.017534,
     "end_time": "2024-05-13T00:33:12.522602",
     "exception": false,
     "start_time": "2024-05-13T00:33:12.505068",
     "status": "completed"
    },
    "tags": []
   },
   "outputs": [],
   "source": [
    "NAME = \"cifakeCNN{}\".format(time.strftime(\"%Y%m%d-%H%M%S\"))\n",
    "tensorboard = TensorBoard(log_dir=\"logs/{}\".format(NAME))"
   ]
  },
  {
   "cell_type": "code",
   "execution_count": null,
   "metadata": {
    "executionInfo": {
     "elapsed": 10,
     "status": "ok",
     "timestamp": 1714439627897,
     "user": {
      "displayName": "Normal Human Person",
      "userId": "03663057191322261591"
     },
     "user_tz": -180
    },
    "id": "dcd19022",
    "papermill": {
     "duration": 0.017065,
     "end_time": "2024-05-13T00:33:12.550194",
     "exception": false,
     "start_time": "2024-05-13T00:33:12.533129",
     "status": "completed"
    },
    "tags": []
   },
   "outputs": [],
   "source": [
    "if RUNNING_WITH_LIMITED_GPU:\n",
    "    gpus = tf.config.list_physical_devices('GPU')\n",
    "    if gpus:\n",
    "      # \"\"\"Restrict TensorFlow to only allocate 1GB of memory on the first GPU\"\"\"\n",
    "      try:\n",
    "        tf.config.set_logical_device_configuration(\n",
    "            gpus[0],\n",
    "            [tf.config.LogicalDeviceConfiguration(memory_limit=1024)])\n",
    "        logical_gpus = tf.config.list_logical_devices('GPU')\n",
    "        print(len(gpus), \"Physical GPUs,\", len(logical_gpus), \"Logical GPUs\")\n",
    "      except RuntimeError as e:\n",
    "        # Virtual devices must be set before GPUs have been initialized\n",
    "        print(e)"
   ]
  },
  {
   "cell_type": "code",
   "execution_count": null,
   "metadata": {
    "executionInfo": {
     "elapsed": 9,
     "status": "ok",
     "timestamp": 1714439627897,
     "user": {
      "displayName": "Normal Human Person",
      "userId": "03663057191322261591"
     },
     "user_tz": -180
    },
    "id": "cc1cc2d6",
    "papermill": {
     "duration": 0.01718,
     "end_time": "2024-05-13T00:33:12.577756",
     "exception": false,
     "start_time": "2024-05-13T00:33:12.560576",
     "status": "completed"
    },
    "tags": []
   },
   "outputs": [],
   "source": [
    "if RUNNING_WITH_LIMITED_CPU:\n",
    "    #! \"\"\"When running locally, limits the threads to 1 (only uses one thread of one CPU core)\"\"\"\n",
    "    tf.config.threading.set_intra_op_parallelism_threads(1)\n",
    "    tf.config.threading.set_inter_op_parallelism_threads(1)"
   ]
  },
  {
   "cell_type": "code",
   "execution_count": null,
   "metadata": {
    "executionInfo": {
     "elapsed": 9,
     "status": "ok",
     "timestamp": 1714439627898,
     "user": {
      "displayName": "Normal Human Person",
      "userId": "03663057191322261591"
     },
     "user_tz": -180
    },
    "id": "90304867",
    "papermill": {
     "duration": 0.017648,
     "end_time": "2024-05-13T00:33:12.606126",
     "exception": false,
     "start_time": "2024-05-13T00:33:12.588478",
     "status": "completed"
    },
    "tags": []
   },
   "outputs": [],
   "source": [
    "if RESTORE_KAGGLE_DIRECTORY_FROM_DATASET:\n",
    "    #! \"\"\"When running on Kaggle, copies the input directory cifake_hyperband to working directory for\n",
    "    #! tuner continuity/cumulative session training(loading backups from BackupAndRestore callback).\"\"\"\n",
    "    from distutils.dir_util import copy_tree\n",
    "    source_dir = \"/kaggle/input/cifake_hyperband/\"\n",
    "    destination_dir = \"/kaggle/working/\"\n",
    "    copy_tree(source_dir, destination_dir)"
   ]
  },
  {
   "cell_type": "code",
   "execution_count": null,
   "metadata": {
    "executionInfo": {
     "elapsed": 145589,
     "status": "ok",
     "timestamp": 1714439773478,
     "user": {
      "displayName": "Normal Human Person",
      "userId": "03663057191322261591"
     },
     "user_tz": -180
    },
    "id": "f14db58e",
    "outputId": "c9abe9eb-2c60-4efa-d136-cbd0871e40b4",
    "papermill": {
     "duration": 134.827539,
     "end_time": "2024-05-13T00:35:27.444226",
     "exception": false,
     "start_time": "2024-05-13T00:33:12.616687",
     "status": "completed"
    },
    "tags": []
   },
   "outputs": [],
   "source": [
    "ds_train = image_dataset_from_directory(\n",
    "    f'{input_dir}train',\n",
    "    labels='inferred',\n",
    "    label_mode='binary',\n",
    "    image_size=[32,32],\n",
    "    interpolation='nearest',\n",
    "    batch_size=32,\n",
    "    shuffle=True,\n",
    "#     seed=69,\n",
    "    #validation_split=None,\n",
    "    subset=None,\n",
    "    follow_links=False,\n",
    "    crop_to_aspect_ratio=False,\n",
    ")"
   ]
  },
  {
   "cell_type": "code",
   "execution_count": null,
   "metadata": {
    "executionInfo": {
     "elapsed": 5277,
     "status": "ok",
     "timestamp": 1714439778752,
     "user": {
      "displayName": "Normal Human Person",
      "userId": "03663057191322261591"
     },
     "user_tz": -180
    },
    "id": "e08e7c99",
    "outputId": "0b0c9417-a66b-4b77-ecc8-1f79ac789668",
    "papermill": {
     "duration": 23.091809,
     "end_time": "2024-05-13T00:35:50.547207",
     "exception": false,
     "start_time": "2024-05-13T00:35:27.455398",
     "status": "completed"
    },
    "tags": []
   },
   "outputs": [],
   "source": [
    "ds_test = image_dataset_from_directory(\n",
    "    f'{input_dir}test',\n",
    "    labels='inferred',\n",
    "    label_mode='binary',\n",
    "    image_size=[32,32],\n",
    "    interpolation='nearest',\n",
    "    batch_size=32,\n",
    "    shuffle=True,\n",
    "#     seed=69,\n",
    "    #validation_split=None,\n",
    "    subset=None,\n",
    "    follow_links=False,\n",
    "    crop_to_aspect_ratio=False,\n",
    ")"
   ]
  },
  {
   "cell_type": "code",
   "execution_count": null,
   "metadata": {
    "executionInfo": {
     "elapsed": 20,
     "status": "ok",
     "timestamp": 1714439778753,
     "user": {
      "displayName": "Normal Human Person",
      "userId": "03663057191322261591"
     },
     "user_tz": -180
    },
    "id": "8ddcb554",
    "papermill": {
     "duration": 0.020742,
     "end_time": "2024-05-13T00:35:50.579352",
     "exception": false,
     "start_time": "2024-05-13T00:35:50.558610",
     "status": "completed"
    },
    "tags": []
   },
   "outputs": [],
   "source": [
    "def convert_to_float(image, label):\n",
    "    image = tf.image.convert_image_dtype(image, dtype=tf.float32)\n",
    "    return image, label\n",
    "\n",
    "AUTOTUNE = tf.data.experimental.AUTOTUNE\n"
   ]
  },
  {
   "cell_type": "code",
   "execution_count": null,
   "metadata": {
    "executionInfo": {
     "elapsed": 18,
     "status": "ok",
     "timestamp": 1714439778753,
     "user": {
      "displayName": "Normal Human Person",
      "userId": "03663057191322261591"
     },
     "user_tz": -180
    },
    "id": "5163c997",
    "papermill": {
     "duration": 0.068669,
     "end_time": "2024-05-13T00:35:50.659427",
     "exception": false,
     "start_time": "2024-05-13T00:35:50.590758",
     "status": "completed"
    },
    "tags": []
   },
   "outputs": [],
   "source": [
    "ds_train = (\n",
    "    ds_train\n",
    "    .map(convert_to_float)\n",
    "    .cache()\n",
    "    .prefetch(buffer_size=AUTOTUNE)\n",
    ")\n"
   ]
  },
  {
   "cell_type": "code",
   "execution_count": null,
   "metadata": {
    "executionInfo": {
     "elapsed": 19,
     "status": "ok",
     "timestamp": 1714439778754,
     "user": {
      "displayName": "Normal Human Person",
      "userId": "03663057191322261591"
     },
     "user_tz": -180
    },
    "id": "fb62ba09",
    "papermill": {
     "duration": 0.031011,
     "end_time": "2024-05-13T00:35:50.701646",
     "exception": false,
     "start_time": "2024-05-13T00:35:50.670635",
     "status": "completed"
    },
    "tags": []
   },
   "outputs": [],
   "source": [
    "ds_valid = (\n",
    "    ds_test\n",
    "    .map(convert_to_float)\n",
    "    .cache()\n",
    "    .prefetch(buffer_size=AUTOTUNE)\n",
    ")"
   ]
  },
  {
   "cell_type": "code",
   "execution_count": null,
   "metadata": {
    "executionInfo": {
     "elapsed": 18,
     "status": "ok",
     "timestamp": 1714439778754,
     "user": {
      "displayName": "Normal Human Person",
      "userId": "03663057191322261591"
     },
     "user_tz": -180
    },
    "id": "9a022c3a",
    "papermill": {
     "duration": 0.019664,
     "end_time": "2024-05-13T00:35:50.733601",
     "exception": false,
     "start_time": "2024-05-13T00:35:50.713937",
     "status": "completed"
    },
    "tags": []
   },
   "outputs": [],
   "source": [
    "early_stopping = keras.callbacks.EarlyStopping(\n",
    "    monitor='val_loss',\n",
    "    patience=14,\n",
    "    min_delta=0.001,\n",
    "    restore_best_weights=True)"
   ]
  },
  {
   "cell_type": "code",
   "execution_count": null,
   "metadata": {
    "executionInfo": {
     "elapsed": 18,
     "status": "ok",
     "timestamp": 1714439778754,
     "user": {
      "displayName": "Normal Human Person",
      "userId": "03663057191322261591"
     },
     "user_tz": -180
    },
    "id": "f571baab",
    "papermill": {
     "duration": 0.017086,
     "end_time": "2024-05-13T00:35:50.761472",
     "exception": false,
     "start_time": "2024-05-13T00:35:50.744386",
     "status": "completed"
    },
    "tags": []
   },
   "outputs": [],
   "source": [
    "from keras.callbacks import ReduceLROnPlateau\n",
    "\n",
    "reduce_lr = ReduceLROnPlateau(monitor='val_loss', factor=0.2, patience=12, min_lr=0.0008)"
   ]
  },
  {
   "cell_type": "code",
   "execution_count": null,
   "metadata": {
    "executionInfo": {
     "elapsed": 18,
     "status": "ok",
     "timestamp": 1714439778754,
     "user": {
      "displayName": "Normal Human Person",
      "userId": "03663057191322261591"
     },
     "user_tz": -180
    },
    "id": "3628b325",
    "papermill": {
     "duration": 0.017559,
     "end_time": "2024-05-13T00:35:50.790085",
     "exception": false,
     "start_time": "2024-05-13T00:35:50.772526",
     "status": "completed"
    },
    "tags": []
   },
   "outputs": [],
   "source": [
    "from keras.callbacks import ModelCheckpoint\n",
    "timestamp = time.strftime(\"%Y%m%d-%H%M%S\")\n",
    "model_checkpoint = ModelCheckpoint(\n",
    "    f'{working_dir}/best/best_model_{timestamp}.keras', monitor='val_loss', save_best_only=True, mode='min'\n",
    ")"
   ]
  },
  {
   "cell_type": "code",
   "execution_count": null,
   "metadata": {
    "executionInfo": {
     "elapsed": 18,
     "status": "ok",
     "timestamp": 1714439778755,
     "user": {
      "displayName": "Normal Human Person",
      "userId": "03663057191322261591"
     },
     "user_tz": -180
    },
    "id": "b9dd7a0d",
    "papermill": {
     "duration": 0.0176,
     "end_time": "2024-05-13T00:35:50.818210",
     "exception": false,
     "start_time": "2024-05-13T00:35:50.800610",
     "status": "completed"
    },
    "tags": []
   },
   "outputs": [],
   "source": [
    "from keras.callbacks import LearningRateScheduler\n",
    "def scheduler(epoch, lr):\n",
    "    if epoch < 28:\n",
    "        return lr\n",
    "    else:\n",
    "        return lr * 0.97 #if lr > 0.001 else lr * 2\n",
    "\n",
    "schedule_lr = LearningRateScheduler(scheduler)"
   ]
  },
  {
   "cell_type": "code",
   "execution_count": null,
   "metadata": {
    "executionInfo": {
     "elapsed": 18,
     "status": "ok",
     "timestamp": 1714439778755,
     "user": {
      "displayName": "Normal Human Person",
      "userId": "03663057191322261591"
     },
     "user_tz": -180
    },
    "id": "84fd9b35",
    "papermill": {
     "duration": 0.017683,
     "end_time": "2024-05-13T00:35:50.846532",
     "exception": false,
     "start_time": "2024-05-13T00:35:50.828849",
     "status": "completed"
    },
    "tags": []
   },
   "outputs": [],
   "source": [
    "backup_dir = f\"{working_dir}/backup/latest\"\n",
    "backup_callback = keras.callbacks.BackupAndRestore(\n",
    "    backup_dir, save_freq=\"epoch\", delete_checkpoint=True\n",
    ")"
   ]
  },
  {
   "cell_type": "code",
   "execution_count": null,
   "metadata": {
    "executionInfo": {
     "elapsed": 539,
     "status": "ok",
     "timestamp": 1714439779276,
     "user": {
      "displayName": "Normal Human Person",
      "userId": "03663057191322261591"
     },
     "user_tz": -180
    },
    "id": "0ea8f2d8",
    "outputId": "8e147efe-24a2-4f3d-e3e5-adbfb2bbebef",
    "papermill": {
     "duration": 0.19306,
     "end_time": "2024-05-13T00:35:51.050339",
     "exception": false,
     "start_time": "2024-05-13T00:35:50.857279",
     "status": "completed"
    },
    "tags": []
   },
   "outputs": [],
   "source": [
    "def MBConv6(input_tensor, hp=None, out_channels=32, expansion=6, squeezing=4, use_se=True, dropout_rate=0.0):\n",
    "    # inverted residual structure\n",
    "    # pointwise convolution 1 expansion\n",
    "    x = layers.Conv2D(expansion * input_tensor.shape[-1], (1,  1), padding='same', use_bias=False)(input_tensor)\n",
    "    x = layers.BatchNormalization()(x)\n",
    "    x = layers.Activation(swish)(x)\n",
    "\n",
    "    # Depthwise Separable Convolution \n",
    "    x = layers.DepthwiseConv2D(kernel_size=(3,  3), strides=(1,  1), padding='same', use_bias=False)(x)\n",
    "    x = layers.BatchNormalization()(x)\n",
    "    x = layers.Activation(swish)(x)\n",
    "\n",
    "    # pointwise convolution 2 bottleneck\n",
    "    x = layers.Conv2D(out_channels, (1,  1), padding='same', use_bias=False)(x)\n",
    "    x = layers.BatchNormalization()(x)\n",
    "\n",
    "    # Dropout\n",
    "    if dropout_rate >  0.0:\n",
    "        x = layers.Dropout(dropout_rate)(x)\n",
    "\n",
    "    # bottleneck\n",
    "    x = layers.Conv2D(out_channels, (1,  1), padding='same', use_bias=False)(x)\n",
    "    x = layers.BatchNormalization()(x)\n",
    "\n",
    "    # Squeeze-and-Excitation\n",
    "    if use_se:\n",
    "        se_shape = (1,  1, out_channels)\n",
    "        se = layers.GlobalAveragePooling2D()(x)\n",
    "        se = layers.Reshape(se_shape)(se)\n",
    "        se = layers.Conv2D(out_channels // squeezing, (1,  1), padding='same', use_bias=True)(se)\n",
    "        se = layers.Activation(swish)(se)\n",
    "        se = layers.Conv2D(out_channels, (1,  1), padding='same', use_bias=True)(se)\n",
    "        se = layers.Activation('sigmoid')(se)\n",
    "        x = layers.Multiply()([x, se])\n",
    "\n",
    "    # Residual\n",
    "    if input_tensor.shape[-1] == out_channels:\n",
    "        shortcut = input_tensor\n",
    "    else:\n",
    "        shortcut = layers.Conv2D(out_channels, (1,  1), strides=(1,  1), padding='same', use_bias=False)(input_tensor)\n",
    "        shortcut = layers.BatchNormalization()(shortcut)\n",
    "\n",
    "    x = layers.Add()([x, shortcut])\n",
    "\n",
    "    return x\n",
    "input_tensor = layers.Input(shape=(32,  32,  16))\n",
    "output_tensor = MBConv6(input_tensor)\n",
    "model = keras.models.Model(inputs=input_tensor, outputs=output_tensor)\n",
    "\n",
    "model.summary()"
   ]
  },
  {
   "cell_type": "code",
   "execution_count": null,
   "metadata": {
    "executionInfo": {
     "elapsed": 344,
     "status": "ok",
     "timestamp": 1714439779617,
     "user": {
      "displayName": "Normal Human Person",
      "userId": "03663057191322261591"
     },
     "user_tz": -180
    },
    "id": "0870858c",
    "outputId": "77d9aec4-7ebf-49f7-c972-b2368f6107e3",
    "papermill": {
     "duration": 0.134936,
     "end_time": "2024-05-13T00:35:51.197363",
     "exception": false,
     "start_time": "2024-05-13T00:35:51.062427",
     "status": "completed"
    },
    "tags": []
   },
   "outputs": [],
   "source": [
    "\n",
    "def MBConv1(input_tensor, hp=None, expansion=4, out_channels=16, strides=(1,   1), use_se=True):\n",
    "\n",
    "    x = layers.Conv2D(expansion, (1,   1), padding='same', use_bias=False)(input_tensor)\n",
    "    x = layers.BatchNormalization()(x)\n",
    "    x = layers.Activation(swish)(x)\n",
    "\n",
    "\n",
    "    x = layers.DepthwiseConv2D(kernel_size=(3,   3), strides=strides, padding='same', use_bias=False)(x)\n",
    "    x = layers.BatchNormalization()(x)\n",
    "    x = layers.Activation(swish)(x)\n",
    "\n",
    "\n",
    "    x = layers.Conv2D(out_channels, (1,   1), padding='same', use_bias=False)(x)\n",
    "    x = layers.BatchNormalization()(x)\n",
    "\n",
    "    # Squeeze-and-Excitation\n",
    "    if use_se:\n",
    "        se_shape = (1,  1, out_channels)\n",
    "        se = layers.GlobalAveragePooling2D()(x)\n",
    "        se = layers.Reshape((1,  1, out_channels))(se)\n",
    "        se = layers.Conv2D(out_channels //  2, (1,  1), padding='same', use_bias=True)(se)\n",
    "        se = layers.Activation(swish)(se)\n",
    "        se = layers.Conv2D(out_channels, (1,  1), padding='same', use_bias=True)(se)\n",
    "        se = layers.Activation('sigmoid')(se)\n",
    "        se = layers.Reshape(se_shape[1:])(se)  # Reshape to original\n",
    "        x = layers.Multiply()([x, se])\n",
    "\n",
    "    # Residual\n",
    "    if input_tensor.shape[-1] == out_channels and strides == (1,   1):\n",
    "        x = layers.Add()([x, input_tensor])\n",
    "    else:\n",
    "        input_tensor = layers.Conv2D(out_channels, (1,   1), strides=strides, padding='same', use_bias=False)(input_tensor)\n",
    "        x = layers.Add()([x, input_tensor])\n",
    "\n",
    "    return x\n",
    "\n",
    "input_tensor = layers.Input(shape=(32,  32,  3))\n",
    "output_tensor = MBConv1(input_tensor)\n",
    "model = keras.models.Model(inputs=input_tensor, outputs=output_tensor)\n",
    "\n",
    "model.summary()"
   ]
  },
  {
   "cell_type": "code",
   "execution_count": null,
   "metadata": {
    "papermill": {
     "duration": 0.012624,
     "end_time": "2024-05-13T00:35:51.222832",
     "exception": false,
     "start_time": "2024-05-13T00:35:51.210208",
     "status": "completed"
    },
    "tags": []
   },
   "outputs": [],
   "source": []
  },
  {
   "cell_type": "code",
   "execution_count": null,
   "metadata": {
    "papermill": {
     "duration": 14.185856,
     "end_time": "2024-05-13T00:36:05.421390",
     "exception": false,
     "start_time": "2024-05-13T00:35:51.235534",
     "status": "completed"
    },
    "tags": []
   },
   "outputs": [],
   "source": [
    "!pip install keras-tuner\n",
    "import keras_tuner\n",
    "from keras_tuner import RandomSearch, Hyperband\n",
    "from keras.models import Model\n",
    "from keras.metrics import Accuracy, Precision, Recall, FBetaScore\n",
    "from kerastuner import Objective"
   ]
  },
  {
   "cell_type": "code",
   "execution_count": null,
   "metadata": {
    "executionInfo": {
     "elapsed": 4422,
     "status": "ok",
     "timestamp": 1714439784034,
     "user": {
      "displayName": "Normal Human Person",
      "userId": "03663057191322261591"
     },
     "user_tz": -180
    },
    "id": "fea228ee",
    "outputId": "43521c53-10cb-464d-e8a4-f8285426211c",
    "papermill": {
     "duration": 0.035086,
     "end_time": "2024-05-13T00:36:05.470081",
     "exception": false,
     "start_time": "2024-05-13T00:36:05.434995",
     "status": "completed"
    },
    "tags": []
   },
   "outputs": [],
   "source": [
    "def build_model(hp=None):\n",
    "    activation_function = 'swish'  #gelu, silu, leaky_relu etc were worse\n",
    "    input_tensor = layers.Input(shape=[32,  32,  3])\n",
    "    x = layers.Reshape(target_shape=(32, 32, 3))(input_tensor)\n",
    "\n",
    "    if hp.Boolean('PRECONV_norm'):\n",
    "        x = layers.BatchNormalization()(x)\n",
    "    x = MBConv6(input_tensor, hp=hp, out_channels=hp.Int('out_channels_2', min_value=20, max_value=44, step=12),\n",
    "                expansion=hp.Int('expansion_2', min_value=4, max_value=8, step=2),\n",
    "                squeezing=hp.Choice('squeezing', values=[1, 2, 4]),\n",
    "                use_se=hp.Boolean('use_se_2'),\n",
    "                dropout_rate=hp.Float('conv6_dropout_rate_2', min_value=0.0, max_value=0.2, step=0.1))\n",
    "    for i in range(hp.Int('num_conv_layers', min_value=1, max_value=3, step=1)):   \n",
    "        x = layers.Conv2D(filters=hp.Int(f'conv_{i}_filter', min_value=32, max_value=96, step=64),\n",
    "                      kernel_size=hp.Choice('conv_kernel', values=[3,  7]),\n",
    "                      activation=activation_function, padding='same',\n",
    "                      kernel_regularizer=keras.regularizers.l2(0.003) if hp.Boolean('l2_reg') else None)(x)\n",
    "        x = layers.Dropout(hp.Float(f'CONV_dropout_{i}_rate', min_value=0.0, max_value=0.1, step=0.1))(x)\n",
    "        if hp.Boolean(f'CONV_{i}_pooling'):\n",
    "            x = layers.MaxPool2D()(x)\n",
    "        if hp.Boolean(f'CONV_{i}_norm'):\n",
    "            x = layers.BatchNormalization()(x)\n",
    "    \n",
    "    x = layers.BatchNormalization()(x)\n",
    "    x = layers.Dropout(hp.Float(f'dropout_INBCONV_rate', min_value=0.0, max_value=0.1, step=0.1))(x)\n",
    "    x = layers.MaxPool2D()(x)\n",
    "    x = layers.Conv2D(filters=hp.Int('conv_filter', min_value=32, max_value=96, step=64),\n",
    "                      kernel_size=hp.Choice('conv_kernel', values=[3,  7]),\n",
    "                      activation=activation_function, padding='same',\n",
    "                      kernel_regularizer=keras.regularizers.l2(0.003) if hp.Boolean('l2_reg') else None)(x)\n",
    "    if hp.Boolean('use_maxpool'):\n",
    "        x = layers.MaxPool2D()(x)\n",
    "    x = layers.MaxPool2D()(x)\n",
    "    x = layers.BatchNormalization()(x)\n",
    "    x = layers.Flatten()(x)\n",
    "\n",
    "\n",
    "    for i in range(hp.Int('num_dense_layers', min_value=4, max_value=12, step=2)):\n",
    "        x = layers.Dense(hp.Int(f'dense_units', min_value=256, max_value=512, step=256),\n",
    "                         activation=activation_function,\n",
    "                         kernel_regularizer=keras.regularizers.l2(0.003) if hp.Boolean('l2_reg') else None)(x)\n",
    "        x = layers.Dropout(hp.Float(f'dropout_{i}_rate', min_value=0.0, max_value=0.6, step=0.1))(x)\n",
    "\n",
    "    x = layers.Dense(1, activation='sigmoid')(x)\n",
    "    optimizer_choice = hp.Choice('optimizer', values=['Adam', 'Adamax'])#'Adagrad', 'Adadelta'\n",
    "\n",
    "    if optimizer_choice == 'Adamax':\n",
    "        optimizer = tf.keras.optimizers.Adamax(learning_rate=hp.Float('adamax_learning_rate', min_value=0.002, max_value=0.01, sampling='LOG'))\n",
    "    elif optimizer_choice == 'Adam':\n",
    "        optimizer = tf.keras.optimizers.Adam(learning_rate=hp.Float('adam_learning_rate', min_value=0.0035, max_value=0.01, sampling='LOG'))\n",
    "\n",
    "\n",
    "    model = Model(inputs=input_tensor, outputs=x)\n",
    "    model.compile(optimizer=optimizer_choice,\n",
    "                  loss='binary_crossentropy',\n",
    "                  metrics=['binary_accuracy',\n",
    "                      Precision(name='precision'),\n",
    "                      Recall(name='recall'),\n",
    "                      FBetaScore(beta=0.25)\n",
    "                      ])\n",
    "    return model\n"
   ]
  },
  {
   "cell_type": "code",
   "execution_count": null,
   "metadata": {
    "papermill": {
     "duration": 0.020189,
     "end_time": "2024-05-13T00:36:05.503557",
     "exception": false,
     "start_time": "2024-05-13T00:36:05.483368",
     "status": "completed"
    },
    "tags": []
   },
   "outputs": [],
   "source": [
    "weighted_obj = Objective('val_fbeta_score', direction='max')"
   ]
  },
  {
   "cell_type": "code",
   "execution_count": null,
   "metadata": {
    "executionInfo": {
     "elapsed": 422,
     "status": "ok",
     "timestamp": 1714439784435,
     "user": {
      "displayName": "Normal Human Person",
      "userId": "03663057191322261591"
     },
     "user_tz": -180
    },
    "id": "df8c2c0a",
    "papermill": {
     "duration": 0.201206,
     "end_time": "2024-05-13T00:36:05.718025",
     "exception": false,
     "start_time": "2024-05-13T00:36:05.516819",
     "status": "completed"
    },
    "tags": []
   },
   "outputs": [],
   "source": [
    "\n",
    "tuner = Hyperband(\n",
    "    build_model,\n",
    "    objective=weighted_obj,\n",
    "    max_epochs=35,\n",
    "    factor=3,\n",
    "    directory=f'{working_dir}/projects',\n",
    "    project_name='cifake_hyperband')"
   ]
  },
  {
   "cell_type": "code",
   "execution_count": null,
   "metadata": {
    "id": "6adc86de",
    "outputId": "bdece607-030b-4684-f7f6-a41b55753480",
    "papermill": {
     "duration": 21741.399846,
     "end_time": "2024-05-13T06:38:27.131343",
     "exception": false,
     "start_time": "2024-05-13T00:36:05.731497",
     "status": "completed"
    },
    "tags": []
   },
   "outputs": [],
   "source": [
    "tuner.search(ds_train, epochs=35, validation_data=ds_valid, callbacks=[early_stopping,  reduce_lr, schedule_lr]) #, backup_callback,tensorboard, verbose=0 model_checkpoint\n",
    "best_models = tuner.get_best_models(num_models=10)\n",
    "for i in range(10):\n",
    "    best_models[i].save(f\"{working_dir}/{i}BEST{NAME}.keras\")\n",
    "best_model = best_models[0]"
   ]
  },
  {
   "cell_type": "code",
   "execution_count": null,
   "metadata": {
    "id": "d0b2a126",
    "papermill": {
     "duration": 0.093253,
     "end_time": "2024-05-13T06:38:27.239369",
     "exception": false,
     "start_time": "2024-05-13T06:38:27.146116",
     "status": "completed"
    },
    "tags": []
   },
   "outputs": [],
   "source": [
    "best_model.summary()"
   ]
  },
  {
   "cell_type": "code",
   "execution_count": null,
   "metadata": {
    "id": "59524255",
    "papermill": {
     "duration": 0.030711,
     "end_time": "2024-05-13T06:38:27.285515",
     "exception": false,
     "start_time": "2024-05-13T06:38:27.254804",
     "status": "completed"
    },
    "tags": []
   },
   "outputs": [],
   "source": [
    "tuner.results_summary()"
   ]
  },
  {
   "cell_type": "code",
   "execution_count": null,
   "metadata": {
    "id": "66be1575",
    "papermill": {
     "duration": 0.123446,
     "end_time": "2024-05-13T06:38:27.424877",
     "exception": false,
     "start_time": "2024-05-13T06:38:27.301431",
     "status": "completed"
    },
    "tags": []
   },
   "outputs": [],
   "source": [
    "best_model.save(f\"{working_dir}/BEST{NAME}.keras\")"
   ]
  },
  {
   "cell_type": "code",
   "execution_count": null,
   "metadata": {
    "id": "151ba76b",
    "papermill": {
     "duration": 50.250407,
     "end_time": "2024-05-13T06:39:17.691379",
     "exception": false,
     "start_time": "2024-05-13T06:38:27.440972",
     "status": "completed"
    },
    "tags": []
   },
   "outputs": [],
   "source": [
    "for i in range(10):\n",
    "    best_hyperparameters = tuner.get_best_hyperparameters(num_trials=1)[0]\n",
    "\n",
    "    # Output the best model's metrics\n",
    "    best_metrics = best_models[i].evaluate(ds_valid)\n",
    "    print(i)\n",
    "    print(\"\\n\")\n",
    "    print(\"Validation Loss:\", best_metrics[0])\n",
    "    print(\"Validation Binary Accuracy:\", best_metrics[1])\n",
    "    print(\"Validation Precision:\", best_metrics[2])\n",
    "    print(\"Validation Recall:\", best_metrics[3])\n",
    "    print(\"Validation F1 Score:\", best_metrics[4])"
   ]
  },
  {
   "cell_type": "code",
   "execution_count": null,
   "metadata": {
    "id": "wVsMJAUwvRUz",
    "papermill": {
     "duration": 0.06437,
     "end_time": "2024-05-13T06:39:17.822991",
     "exception": false,
     "start_time": "2024-05-13T06:39:17.758621",
     "status": "completed"
    },
    "tags": []
   },
   "outputs": [],
   "source": []
  }
 ],
 "metadata": {
  "accelerator": "GPU",
  "colab": {
   "gpuType": "T4",
   "provenance": []
  },
  "kaggle": {
   "accelerator": "nvidiaTeslaT4",
   "dataSources": [
    {
     "datasetId": 3041726,
     "sourceId": 5256696,
     "sourceType": "datasetVersion"
    },
    {
     "datasetId": 4500471,
     "sourceId": 7708047,
     "sourceType": "datasetVersion"
    },
    {
     "datasetId": 4528120,
     "sourceId": 7746027,
     "sourceType": "datasetVersion"
    }
   ],
   "isGpuEnabled": true,
   "isInternetEnabled": true,
   "language": "python",
   "sourceType": "notebook"
  },
  "kernelspec": {
   "display_name": "Python 3 (ipykernel)",
   "language": "python",
   "name": "python3"
  },
  "language_info": {
   "codemirror_mode": {
    "name": "ipython",
    "version": 3
   },
   "file_extension": ".py",
   "mimetype": "text/x-python",
   "name": "python",
   "nbconvert_exporter": "python",
   "pygments_lexer": "ipython3",
   "version": "3.11.0"
  },
  "papermill": {
   "default_parameters": {},
   "duration": 21984.01513,
   "end_time": "2024-05-13T06:39:22.370367",
   "environment_variables": {},
   "exception": null,
   "input_path": "__notebook__.ipynb",
   "output_path": "__notebook__.ipynb",
   "parameters": {},
   "start_time": "2024-05-13T00:32:58.355237",
   "version": "2.5.0"
  }
 },
 "nbformat": 4,
 "nbformat_minor": 4
}
