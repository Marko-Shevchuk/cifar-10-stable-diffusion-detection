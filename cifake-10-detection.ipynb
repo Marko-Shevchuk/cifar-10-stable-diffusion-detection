{
 "cells": [
  {
   "cell_type": "code",
   "execution_count": 1,
   "metadata": {
    "executionInfo": {
     "elapsed": 302,
     "status": "ok",
     "timestamp": 1714439625651,
     "user": {
      "displayName": "Normal Human Person",
      "userId": "03663057191322261591"
     },
     "user_tz": -180
    },
    "id": "980ee2a9"
   },
   "outputs": [
    {
     "ename": "ModuleNotFoundError",
     "evalue": "No module named 'tensorflow'",
     "output_type": "error",
     "traceback": [
      "\u001b[1;31m---------------------------------------------------------------------------\u001b[0m",
      "\u001b[1;31mModuleNotFoundError\u001b[0m                       Traceback (most recent call last)",
      "Cell \u001b[1;32mIn[1], line 4\u001b[0m\n\u001b[0;32m      2\u001b[0m \u001b[38;5;28;01mimport\u001b[39;00m \u001b[38;5;21;01mnumpy\u001b[39;00m \u001b[38;5;28;01mas\u001b[39;00m \u001b[38;5;21;01mnp\u001b[39;00m\n\u001b[0;32m      3\u001b[0m \u001b[38;5;28;01mimport\u001b[39;00m \u001b[38;5;21;01mos\u001b[39;00m\n\u001b[1;32m----> 4\u001b[0m \u001b[38;5;28;01mimport\u001b[39;00m \u001b[38;5;21;01mtensorflow\u001b[39;00m \u001b[38;5;28;01mas\u001b[39;00m \u001b[38;5;21;01mtf\u001b[39;00m\n\u001b[0;32m      5\u001b[0m \u001b[38;5;28;01mfrom\u001b[39;00m \u001b[38;5;21;01mkeras\u001b[39;00m\u001b[38;5;21;01m.\u001b[39;00m\u001b[38;5;21;01mutils\u001b[39;00m \u001b[38;5;28;01mimport\u001b[39;00m image_dataset_from_directory\n\u001b[0;32m      6\u001b[0m \u001b[38;5;28;01mfrom\u001b[39;00m \u001b[38;5;21;01mtensorflow\u001b[39;00m \u001b[38;5;28;01mimport\u001b[39;00m keras\n",
      "\u001b[1;31mModuleNotFoundError\u001b[0m: No module named 'tensorflow'"
     ]
    }
   ],
   "source": [
    "import pandas as pd\n",
    "import numpy as np\n",
    "import os\n",
    "import tensorflow as tf\n",
    "from keras.utils import image_dataset_from_directory\n",
    "from tensorflow import keras\n",
    "from keras import layers\n",
    "from keras.activations import swish\n",
    "from keras.callbacks import TensorBoard\n",
    "import time\n",
    "import matplotlib.pyplot as plt\n",
    "from matplotlib import gridspec"
   ]
  },
  {
   "cell_type": "code",
   "execution_count": null,
   "metadata": {
    "executionInfo": {
     "elapsed": 1978,
     "status": "ok",
     "timestamp": 1714439627894,
     "user": {
      "displayName": "Normal Human Person",
      "userId": "03663057191322261591"
     },
     "user_tz": -180
    },
    "id": "vBFsmR2wKcl9",
    "outputId": "f596318a-8c26-4674-e5d1-4976da42f410"
   },
   "outputs": [],
   "source": []
  },
  {
   "cell_type": "code",
   "execution_count": null,
   "metadata": {
    "executionInfo": {
     "elapsed": 25,
     "status": "ok",
     "timestamp": 1714439627895,
     "user": {
      "displayName": "Normal Human Person",
      "userId": "03663057191322261591"
     },
     "user_tz": -180
    },
    "id": "CUjidOkNO-OZ",
    "outputId": "ff81470e-dd8d-46e3-ee90-6a8135c2551b"
   },
   "outputs": [],
   "source": []
  },
  {
   "cell_type": "code",
   "execution_count": null,
   "metadata": {
    "executionInfo": {
     "elapsed": 15,
     "status": "ok",
     "timestamp": 1714439627896,
     "user": {
      "displayName": "Normal Human Person",
      "userId": "03663057191322261591"
     },
     "user_tz": -180
    },
    "id": "0395682b",
    "outputId": "8faf5baa-e8f2-483a-eb1e-9c5603b84006"
   },
   "outputs": [],
   "source": [
    "print(\"Num GPUs Available: \", len(tf.config.list_physical_devices('GPU')))"
   ]
  },
  {
   "cell_type": "code",
   "execution_count": null,
   "metadata": {
    "executionInfo": {
     "elapsed": 11,
     "status": "ok",
     "timestamp": 1714439627896,
     "user": {
      "displayName": "Normal Human Person",
      "userId": "03663057191322261591"
     },
     "user_tz": -180
    },
    "id": "e3095e27"
   },
   "outputs": [],
   "source": [
    "input_dir = \"/kaggle/input/cifar-10-fake-image-dataset/cifar-10-dataset/\" #! Kaggle path\n",
    "working_dir = \"/kaggle/working/\" #! Kaggle path"
   ]
  },
  {
   "cell_type": "code",
   "execution_count": null,
   "metadata": {
    "executionInfo": {
     "elapsed": 10,
     "status": "ok",
     "timestamp": 1714439627896,
     "user": {
      "displayName": "Normal Human Person",
      "userId": "03663057191322261591"
     },
     "user_tz": -180
    },
    "id": "8ed4aa18"
   },
   "outputs": [],
   "source": [
    "NAME = \"cifakeCNN{}\".format(time.strftime(\"%Y%m%d-%H%M%S\"))\n",
    "tensorboard = TensorBoard(log_dir=\"logs/{}\".format(NAME))"
   ]
  },
  {
   "cell_type": "code",
   "execution_count": null,
   "metadata": {
    "executionInfo": {
     "elapsed": 10,
     "status": "ok",
     "timestamp": 1714439627897,
     "user": {
      "displayName": "Normal Human Person",
      "userId": "03663057191322261591"
     },
     "user_tz": -180
    },
    "id": "dcd19022"
   },
   "outputs": [],
   "source": [
    "# gpus = tf.config.list_physical_devices('GPU')\n",
    "# if gpus:\n",
    "#   # \"\"\"Restrict TensorFlow to only allocate 1GB of memory on the first GPU\"\"\"\n",
    "#   try:\n",
    "#     tf.config.set_logical_device_configuration(\n",
    "#         gpus[0],\n",
    "#         [tf.config.LogicalDeviceConfiguration(memory_limit=1024)])\n",
    "#     logical_gpus = tf.config.list_logical_devices('GPU')\n",
    "#     print(len(gpus), \"Physical GPUs,\", len(logical_gpus), \"Logical GPUs\")\n",
    "#   except RuntimeError as e:\n",
    "#     # Virtual devices must be set before GPUs have been initialized\n",
    "#     print(e)"
   ]
  },
  {
   "cell_type": "code",
   "execution_count": null,
   "metadata": {
    "executionInfo": {
     "elapsed": 9,
     "status": "ok",
     "timestamp": 1714439627897,
     "user": {
      "displayName": "Normal Human Person",
      "userId": "03663057191322261591"
     },
     "user_tz": -180
    },
    "id": "cc1cc2d6"
   },
   "outputs": [],
   "source": [
    "#! \"\"\"When running locally, limits the threads to 1 (only uses one thread of one CPU core)\"\"\"\n",
    "# tf.config.threading.set_intra_op_parallelism_threads(1)\n",
    "# tf.config.threading.set_inter_op_parallelism_threads(1)"
   ]
  },
  {
   "cell_type": "code",
   "execution_count": null,
   "metadata": {
    "executionInfo": {
     "elapsed": 9,
     "status": "ok",
     "timestamp": 1714439627898,
     "user": {
      "displayName": "Normal Human Person",
      "userId": "03663057191322261591"
     },
     "user_tz": -180
    },
    "id": "90304867"
   },
   "outputs": [],
   "source": [
    "#! \"\"\"When running on Kaggle, copies the input directory cifake_hyperband to the working directory for\n",
    "#! tuner continuity / cumulative session training (loading backups from the BackupAndRestore callback).\"\"\"\n",
    "# from distutils.dir_util import copy_tree\n",
    "# source_dir = \"/kaggle/input/cifake_hyperband/\"\n",
    "# destination_dir = \"/kaggle/working/\"\n",
    "# copy_tree(source_dir, destination_dir)"
   ]
  },
  {
   "cell_type": "code",
   "execution_count": null,
   "metadata": {
    "executionInfo": {
     "elapsed": 145589,
     "status": "ok",
     "timestamp": 1714439773478,
     "user": {
      "displayName": "Normal Human Person",
      "userId": "03663057191322261591"
     },
     "user_tz": -180
    },
    "id": "f14db58e",
    "outputId": "c9abe9eb-2c60-4efa-d136-cbd0871e40b4"
   },
   "outputs": [],
   "source": [
    "ds_train = image_dataset_from_directory(\n",
    "    f'{input_dir}train',\n",
    "    labels='inferred',\n",
    "    label_mode='binary',\n",
    "    image_size=[32,32],\n",
    "    interpolation='nearest',\n",
    "    batch_size=32,\n",
    "    shuffle=True,\n",
    "#     seed=69,\n",
    "    #validation_split=None,\n",
    "    subset=None,\n",
    "    follow_links=False,\n",
    "    crop_to_aspect_ratio=False,\n",
    ")"
   ]
  },
  {
   "cell_type": "code",
   "execution_count": null,
   "metadata": {
    "executionInfo": {
     "elapsed": 5277,
     "status": "ok",
     "timestamp": 1714439778752,
     "user": {
      "displayName": "Normal Human Person",
      "userId": "03663057191322261591"
     },
     "user_tz": -180
    },
    "id": "e08e7c99",
    "outputId": "0b0c9417-a66b-4b77-ecc8-1f79ac789668"
   },
   "outputs": [],
   "source": [
    "ds_test = image_dataset_from_directory(\n",
    "    f'{input_dir}test',\n",
    "    labels='inferred',\n",
    "    label_mode='binary',\n",
    "    image_size=[32,32],\n",
    "    interpolation='nearest',\n",
    "    batch_size=32,\n",
    "    shuffle=True,\n",
    "#     seed=69,\n",
    "    #validation_split=None,\n",
    "    subset=None,\n",
    "    follow_links=False,\n",
    "    crop_to_aspect_ratio=False,\n",
    ")"
   ]
  },
  {
   "cell_type": "code",
   "execution_count": null,
   "metadata": {
    "executionInfo": {
     "elapsed": 20,
     "status": "ok",
     "timestamp": 1714439778753,
     "user": {
      "displayName": "Normal Human Person",
      "userId": "03663057191322261591"
     },
     "user_tz": -180
    },
    "id": "8ddcb554"
   },
   "outputs": [],
   "source": [
    "def convert_to_float(image, label):\n",
    "    image = tf.image.convert_image_dtype(image, dtype=tf.float32)\n",
    "    return image, label\n",
    "\n",
    "AUTOTUNE = tf.data.experimental.AUTOTUNE\n"
   ]
  },
  {
   "cell_type": "code",
   "execution_count": null,
   "metadata": {
    "executionInfo": {
     "elapsed": 18,
     "status": "ok",
     "timestamp": 1714439778753,
     "user": {
      "displayName": "Normal Human Person",
      "userId": "03663057191322261591"
     },
     "user_tz": -180
    },
    "id": "5163c997"
   },
   "outputs": [],
   "source": [
    "ds_train = (\n",
    "    ds_train\n",
    "    .map(convert_to_float)\n",
    "    .cache()\n",
    "    .prefetch(buffer_size=AUTOTUNE)\n",
    ")\n"
   ]
  },
  {
   "cell_type": "code",
   "execution_count": null,
   "metadata": {
    "executionInfo": {
     "elapsed": 19,
     "status": "ok",
     "timestamp": 1714439778754,
     "user": {
      "displayName": "Normal Human Person",
      "userId": "03663057191322261591"
     },
     "user_tz": -180
    },
    "id": "fb62ba09"
   },
   "outputs": [],
   "source": [
    "ds_valid = (\n",
    "    ds_test\n",
    "    .map(convert_to_float)\n",
    "    .cache()\n",
    "    .prefetch(buffer_size=AUTOTUNE)\n",
    ")"
   ]
  },
  {
   "cell_type": "code",
   "execution_count": null,
   "metadata": {
    "executionInfo": {
     "elapsed": 18,
     "status": "ok",
     "timestamp": 1714439778754,
     "user": {
      "displayName": "Normal Human Person",
      "userId": "03663057191322261591"
     },
     "user_tz": -180
    },
    "id": "9a022c3a"
   },
   "outputs": [],
   "source": [
    "early_stopping = keras.callbacks.EarlyStopping(\n",
    "    monitor='val_loss',\n",
    "    patience=14,\n",
    "    min_delta=0.001,\n",
    "    restore_best_weights=True)"
   ]
  },
  {
   "cell_type": "code",
   "execution_count": null,
   "metadata": {
    "executionInfo": {
     "elapsed": 18,
     "status": "ok",
     "timestamp": 1714439778754,
     "user": {
      "displayName": "Normal Human Person",
      "userId": "03663057191322261591"
     },
     "user_tz": -180
    },
    "id": "f571baab"
   },
   "outputs": [],
   "source": [
    "from keras.callbacks import ReduceLROnPlateau\n",
    "\n",
    "reduce_lr = ReduceLROnPlateau(monitor='val_loss', factor=0.2, patience=12, min_lr=0.0008)"
   ]
  },
  {
   "cell_type": "code",
   "execution_count": null,
   "metadata": {
    "executionInfo": {
     "elapsed": 18,
     "status": "ok",
     "timestamp": 1714439778754,
     "user": {
      "displayName": "Normal Human Person",
      "userId": "03663057191322261591"
     },
     "user_tz": -180
    },
    "id": "3628b325"
   },
   "outputs": [],
   "source": [
    "from keras.callbacks import ModelCheckpoint\n",
    "timestamp = time.strftime(\"%Y%m%d-%H%M%S\")\n",
    "model_checkpoint = ModelCheckpoint(\n",
    "    f'{working_dir}/best/best_model_{timestamp}.keras', monitor='val_loss', save_best_only=True, mode='min'\n",
    ")"
   ]
  },
  {
   "cell_type": "code",
   "execution_count": null,
   "metadata": {
    "executionInfo": {
     "elapsed": 18,
     "status": "ok",
     "timestamp": 1714439778755,
     "user": {
      "displayName": "Normal Human Person",
      "userId": "03663057191322261591"
     },
     "user_tz": -180
    },
    "id": "b9dd7a0d"
   },
   "outputs": [],
   "source": [
    "from keras.callbacks import LearningRateScheduler\n",
    "def scheduler(epoch, lr):\n",
    "    if epoch < 28:\n",
    "        return lr\n",
    "    else:\n",
    "        return lr * 0.97 #if lr > 0.001 else lr * 2\n",
    "\n",
    "schedule_lr = LearningRateScheduler(scheduler)"
   ]
  },
  {
   "cell_type": "code",
   "execution_count": null,
   "metadata": {
    "executionInfo": {
     "elapsed": 18,
     "status": "ok",
     "timestamp": 1714439778755,
     "user": {
      "displayName": "Normal Human Person",
      "userId": "03663057191322261591"
     },
     "user_tz": -180
    },
    "id": "84fd9b35"
   },
   "outputs": [],
   "source": [
    "backup_dir = f\"{working_dir}/backup/latest\"\n",
    "backup_callback = keras.callbacks.BackupAndRestore(\n",
    "    backup_dir, save_freq=\"epoch\", delete_checkpoint=True\n",
    ")"
   ]
  },
  {
   "cell_type": "code",
   "execution_count": null,
   "metadata": {
    "executionInfo": {
     "elapsed": 539,
     "status": "ok",
     "timestamp": 1714439779276,
     "user": {
      "displayName": "Normal Human Person",
      "userId": "03663057191322261591"
     },
     "user_tz": -180
    },
    "id": "0ea8f2d8",
    "outputId": "8e147efe-24a2-4f3d-e3e5-adbfb2bbebef"
   },
   "outputs": [],
   "source": [
    "def MBConv6(input_tensor, hp=None, out_channels=32, expansion=6, squeezing=4, use_se=True, dropout_rate=0.0):\n",
    "    # inverted residual structure\n",
    "    # pointwise convolution 1 expansion\n",
    "    x = layers.Conv2D(expansion * input_tensor.shape[-1], (1,  1), padding='same', use_bias=False)(input_tensor)\n",
    "    x = layers.BatchNormalization()(x)\n",
    "    x = layers.Activation(swish)(x)\n",
    "\n",
    "    # Depthwise Separable Convolution \n",
    "    x = layers.DepthwiseConv2D(kernel_size=(3,  3), strides=(1,  1), padding='same', use_bias=False)(x)\n",
    "    x = layers.BatchNormalization()(x)\n",
    "    x = layers.Activation(swish)(x)\n",
    "\n",
    "    # pointwise convolution 2 bottleneck\n",
    "    x = layers.Conv2D(out_channels, (1,  1), padding='same', use_bias=False)(x)\n",
    "    x = layers.BatchNormalization()(x)\n",
    "\n",
    "    # Dropout\n",
    "    if dropout_rate >  0.0:\n",
    "        x = layers.Dropout(dropout_rate)(x)\n",
    "\n",
    "    # bottleneck\n",
    "    x = layers.Conv2D(out_channels, (1,  1), padding='same', use_bias=False)(x)\n",
    "    x = layers.BatchNormalization()(x)\n",
    "\n",
    "    # Squeeze-and-Excitation\n",
    "    if use_se:\n",
    "        se_shape = (1,  1, out_channels)\n",
    "        se = layers.GlobalAveragePooling2D()(x)\n",
    "        se = layers.Reshape(se_shape)(se)\n",
    "        se = layers.Conv2D(out_channels // squeezing, (1,  1), padding='same', use_bias=True)(se)\n",
    "        se = layers.Activation(swish)(se)\n",
    "        se = layers.Conv2D(out_channels, (1,  1), padding='same', use_bias=True)(se)\n",
    "        se = layers.Activation('sigmoid')(se)\n",
    "        x = layers.Multiply()([x, se])\n",
    "\n",
    "    # Residual\n",
    "    if input_tensor.shape[-1] == out_channels:\n",
    "        shortcut = input_tensor\n",
    "    else:\n",
    "        shortcut = layers.Conv2D(out_channels, (1,  1), strides=(1,  1), padding='same', use_bias=False)(input_tensor)\n",
    "        shortcut = layers.BatchNormalization()(shortcut)\n",
    "\n",
    "    x = layers.Add()([x, shortcut])\n",
    "\n",
    "    return x\n",
    "input_tensor = layers.Input(shape=(32,  32,  16))\n",
    "output_tensor = MBConv6(input_tensor)\n",
    "model = keras.models.Model(inputs=input_tensor, outputs=output_tensor)\n",
    "\n",
    "model.summary()"
   ]
  },
  {
   "cell_type": "code",
   "execution_count": null,
   "metadata": {
    "executionInfo": {
     "elapsed": 344,
     "status": "ok",
     "timestamp": 1714439779617,
     "user": {
      "displayName": "Normal Human Person",
      "userId": "03663057191322261591"
     },
     "user_tz": -180
    },
    "id": "0870858c",
    "outputId": "77d9aec4-7ebf-49f7-c972-b2368f6107e3"
   },
   "outputs": [],
   "source": [
    "\n",
    "def MBConv1(input_tensor, hp=None, expansion=4, out_channels=16, strides=(1,   1), use_se=True):\n",
    "\n",
    "    x = layers.Conv2D(expansion, (1,   1), padding='same', use_bias=False)(input_tensor)\n",
    "    x = layers.BatchNormalization()(x)\n",
    "    x = layers.Activation(swish)(x)\n",
    "\n",
    "\n",
    "    x = layers.DepthwiseConv2D(kernel_size=(3,   3), strides=strides, padding='same', use_bias=False)(x)\n",
    "    x = layers.BatchNormalization()(x)\n",
    "    x = layers.Activation(swish)(x)\n",
    "\n",
    "\n",
    "    x = layers.Conv2D(out_channels, (1,   1), padding='same', use_bias=False)(x)\n",
    "    x = layers.BatchNormalization()(x)\n",
    "\n",
    "    # Squeeze-and-Excitation\n",
    "    if use_se:\n",
    "        se_shape = (1,  1, out_channels)\n",
    "        se = layers.GlobalAveragePooling2D()(x)\n",
    "        se = layers.Reshape((1,  1, out_channels))(se)\n",
    "        se = layers.Conv2D(out_channels //  2, (1,  1), padding='same', use_bias=True)(se)\n",
    "        se = layers.Activation(swish)(se)\n",
    "        se = layers.Conv2D(out_channels, (1,  1), padding='same', use_bias=True)(se)\n",
    "        se = layers.Activation('sigmoid')(se)\n",
    "        se = layers.Reshape(se_shape[1:])(se)  # Reshape to original\n",
    "        x = layers.Multiply()([x, se])\n",
    "\n",
    "    # Residual\n",
    "    if input_tensor.shape[-1] == out_channels and strides == (1,   1):\n",
    "        x = layers.Add()([x, input_tensor])\n",
    "    else:\n",
    "        input_tensor = layers.Conv2D(out_channels, (1,   1), strides=strides, padding='same', use_bias=False)(input_tensor)\n",
    "        x = layers.Add()([x, input_tensor])\n",
    "\n",
    "    return x\n",
    "\n",
    "input_tensor = layers.Input(shape=(32,  32,  3))\n",
    "output_tensor = MBConv1(input_tensor)\n",
    "model = keras.models.Model(inputs=input_tensor, outputs=output_tensor)\n",
    "\n",
    "model.summary()"
   ]
  },
  {
   "cell_type": "code",
   "execution_count": null,
   "metadata": {},
   "outputs": [],
   "source": [
    "!pip install keras-tuner\n",
    "import keras_tuner\n",
    "from keras_tuner import RandomSearch, Hyperband\n",
    "from keras.models import Model\n",
    "from keras.metrics import Accuracy, Precision, Recall, F1Score\n",
    "from kerastuner import Objective"
   ]
  },
  {
   "cell_type": "code",
   "execution_count": null,
   "metadata": {
    "executionInfo": {
     "elapsed": 4422,
     "status": "ok",
     "timestamp": 1714439784034,
     "user": {
      "displayName": "Normal Human Person",
      "userId": "03663057191322261591"
     },
     "user_tz": -180
    },
    "id": "fea228ee",
    "outputId": "43521c53-10cb-464d-e8a4-f8285426211c"
   },
   "outputs": [],
   "source": [
    "def build_model(hp=None):\n",
    "    activation_function = 'swish'  #gelu, silu, leaky_relu etc were worse\n",
    "    input_tensor = layers.Input(shape=[32,  32,  3])\n",
    "    x = layers.Reshape(target_shape=(32, 32, 3))(input_tensor)\n",
    "\n",
    "    if hp.Boolean('PRECONV_norm'):\n",
    "        x = layers.BatchNormalization()(x)\n",
    "    x = MBConv6(input_tensor, hp=hp, out_channels=hp.Int('out_channels_2', min_value=20, max_value=44, step=12),\n",
    "                expansion=hp.Int('expansion_2', min_value=4, max_value=8, step=2),\n",
    "                squeezing=hp.Choice('squeezing', values=[1, 2, 4]),\n",
    "                use_se=hp.Boolean('use_se_2'),\n",
    "                dropout_rate=hp.Float('conv6_dropout_rate_2', min_value=0.0, max_value=0.2, step=0.1))\n",
    "    #for here\n",
    "    x = layers.Conv2D(filters=hp.Int('conv_filter', min_value=32, max_value=96, step=64),\n",
    "                      kernel_size=hp.Choice('conv_kernel', values=[3,  7]),\n",
    "                      activation=activation_function, padding='same',\n",
    "                      kernel_regularizer=keras.regularizers.l2(0.003) if hp.Boolean('l2_reg') else None)(x)\n",
    "    x = layers.BatchNormalization()(x)\n",
    "    x = layers.Dropout(hp.Float(f'dropout_INBCONV_rate', min_value=0.0, max_value=0.1, step=0.1))(x)\n",
    "    x = layers.MaxPool2D()(x)\n",
    "    x = layers.Conv2D(filters=hp.Int('conv_filter', min_value=32, max_value=96, step=64),\n",
    "                      kernel_size=hp.Choice('conv_kernel', values=[3,  7]),\n",
    "                      activation=activation_function, padding='same',\n",
    "                      kernel_regularizer=keras.regularizers.l2(0.003) if hp.Boolean('l2_reg') else None)(x)\n",
    "    if hp.Boolean('use_maxpool'):\n",
    "        x = layers.MaxPool2D()(x)\n",
    "    x = layers.MaxPool2D()(x)\n",
    "    x = layers.BatchNormalization()(x)\n",
    "    x = layers.Flatten()(x)\n",
    "\n",
    "\n",
    "    for i in range(hp.Int('num_dense_layers', min_value=4, max_value=12, step=2)):\n",
    "        x = layers.Dense(hp.Int(f'dense_units', min_value=256, max_value=512, step=256),\n",
    "                         activation=activation_function,\n",
    "                         kernel_regularizer=keras.regularizers.l2(0.003) if hp.Boolean('l2_reg') else None)(x)\n",
    "        x = layers.Dropout(hp.Float(f'dropout_{i}_rate', min_value=0.0, max_value=0.6, step=0.1))(x)\n",
    "\n",
    "    x = layers.Dense(1, activation='sigmoid')(x)\n",
    "    optimizer_choice = hp.Choice('optimizer', values=['Adam', 'Adamax'])#'Adagrad', 'Adadelta'\n",
    "\n",
    "    if optimizer_choice == 'Adamax':\n",
    "        optimizer = tf.keras.optimizers.Adamax(learning_rate=hp.Float('adamax_learning_rate', min_value=0.002, max_value=0.01, sampling='LOG'))\n",
    "    elif optimizer_choice == 'Adam':\n",
    "        optimizer = tf.keras.optimizers.Adam(learning_rate=hp.Float('adam_learning_rate', min_value=0.0035, max_value=0.01, sampling='LOG'))\n",
    "\n",
    "\n",
    "    model = Model(inputs=input_tensor, outputs=x)\n",
    "    model.compile(optimizer=optimizer_choice,\n",
    "                  loss='binary_crossentropy',\n",
    "                  metrics=['binary_accuracy',\n",
    "                      Precision(name='precision'),\n",
    "                      Recall(name='recall'),\n",
    "                      F1Score(name='f1_score'),\n",
    "                      tf.keras.metrics.AUC(name='auc')])\n",
    "    return model\n"
   ]
  },
  {
   "cell_type": "code",
   "execution_count": null,
   "metadata": {},
   "outputs": [],
   "source": [
    "auc_obj = Objective('val_auc', direction='max')"
   ]
  },
  {
   "cell_type": "code",
   "execution_count": null,
   "metadata": {
    "executionInfo": {
     "elapsed": 422,
     "status": "ok",
     "timestamp": 1714439784435,
     "user": {
      "displayName": "Normal Human Person",
      "userId": "03663057191322261591"
     },
     "user_tz": -180
    },
    "id": "df8c2c0a"
   },
   "outputs": [],
   "source": [
    "\n",
    "tuner = Hyperband(\n",
    "    build_model,\n",
    "    objective=auc_obj,\n",
    "    max_epochs=35,\n",
    "    factor=3,\n",
    "    directory=f'{working_dir}/projects',\n",
    "    project_name='cifake_hyperband')"
   ]
  },
  {
   "cell_type": "code",
   "execution_count": null,
   "metadata": {
    "id": "6adc86de",
    "outputId": "bdece607-030b-4684-f7f6-a41b55753480"
   },
   "outputs": [],
   "source": [
    "tuner.search(ds_train, epochs=35, validation_data=ds_valid, callbacks=[early_stopping,  reduce_lr, schedule_lr]) #, backup_callback,tensorboard, verbose=0 model_checkpoint\n",
    "best_models = tuner.get_best_models(num_models=10)\n",
    "for i in range(10):\n",
    "    best_models[i].save(f\"{working_dir}/{i}BEST{NAME}.keras\")\n",
    "best_model = best_models[0]"
   ]
  },
  {
   "cell_type": "code",
   "execution_count": null,
   "metadata": {
    "id": "d0b2a126"
   },
   "outputs": [],
   "source": [
    "best_model.summary()"
   ]
  },
  {
   "cell_type": "code",
   "execution_count": null,
   "metadata": {
    "id": "59524255"
   },
   "outputs": [],
   "source": [
    "tuner.results_summary()"
   ]
  },
  {
   "cell_type": "code",
   "execution_count": null,
   "metadata": {
    "id": "66be1575"
   },
   "outputs": [],
   "source": [
    "best_model.save(f\"{working_dir}/BEST{NAME}.keras\")"
   ]
  },
  {
   "cell_type": "code",
   "execution_count": null,
   "metadata": {
    "id": "151ba76b"
   },
   "outputs": [],
   "source": [
    "for i in range(10):\n",
    "    best_hyperparameters = tuner.get_best_hyperparameters(num_trials=1)[0]\n",
    "\n",
    "    # Output the best model's metrics\n",
    "    best_metrics = best_models[i].evaluate(ds_valid)\n",
    "    print(i)\n",
    "    print(\"\\n\")\n",
    "    print(\"Validation Loss:\", best_metrics[0])\n",
    "    print(\"Validation Binary Accuracy:\", best_metrics[1])\n",
    "    print(\"Validation Precision:\", best_metrics[2])\n",
    "    print(\"Validation Recall:\", best_metrics[3])\n",
    "    print(\"Validation F1 Score:\", best_metrics[4])"
   ]
  },
  {
   "cell_type": "code",
   "execution_count": null,
   "metadata": {
    "id": "wVsMJAUwvRUz"
   },
   "outputs": [],
   "source": []
  }
 ],
 "metadata": {
  "accelerator": "GPU",
  "colab": {
   "gpuType": "T4",
   "provenance": []
  },
  "kaggle": {
   "accelerator": "nvidiaTeslaT4",
   "dataSources": [
    {
     "datasetId": 3041726,
     "sourceId": 5256696,
     "sourceType": "datasetVersion"
    },
    {
     "datasetId": 4500471,
     "sourceId": 7708047,
     "sourceType": "datasetVersion"
    },
    {
     "datasetId": 4528120,
     "sourceId": 7746027,
     "sourceType": "datasetVersion"
    }
   ],
   "dockerImageVersionId": 30699,
   "isGpuEnabled": true,
   "isInternetEnabled": true,
   "language": "python",
   "sourceType": "notebook"
  },
  "kernelspec": {
   "display_name": "Python 3 (ipykernel)",
   "language": "python",
   "name": "python3"
  },
  "language_info": {
   "codemirror_mode": {
    "name": "ipython",
    "version": 3
   },
   "file_extension": ".py",
   "mimetype": "text/x-python",
   "name": "python",
   "nbconvert_exporter": "python",
   "pygments_lexer": "ipython3",
   "version": "3.11.0"
  },
  "papermill": {
   "default_parameters": {},
   "duration": 10203.798551,
   "end_time": "2024-04-24T23:10:17.453551",
   "environment_variables": {},
   "exception": null,
   "input_path": "__notebook__.ipynb",
   "output_path": "__notebook__.ipynb",
   "parameters": {},
   "start_time": "2024-04-24T20:20:13.655000",
   "version": "2.5.0"
  }
 },
 "nbformat": 4,
 "nbformat_minor": 4
}
