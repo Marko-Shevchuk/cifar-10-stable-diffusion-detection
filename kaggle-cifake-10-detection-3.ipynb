{
 "cells": [
  {
   "cell_type": "code",
   "execution_count": null,
   "metadata": {
    "execution": {
     "iopub.execute_input": "2024-02-28T12:02:21.011539Z",
     "iopub.status.busy": "2024-02-28T12:02:21.011148Z",
     "iopub.status.idle": "2024-02-28T12:02:21.017419Z",
     "shell.execute_reply": "2024-02-28T12:02:21.016469Z",
     "shell.execute_reply.started": "2024-02-28T12:02:21.011510Z"
    }
   },
   "outputs": [],
   "source": [
    "import pandas as pd\n",
    "import numpy as np\n",
    "import os\n",
    "import tensorflow as tf\n",
    "from tensorflow.keras.utils import image_dataset_from_directory\n",
    "from tensorflow import keras\n",
    "from tensorflow.keras import layers\n",
    "from tensorflow.keras.activations import swish\n",
    "from tensorflow.keras.callbacks import TensorBoard\n",
    "import time\n",
    "import matplotlib.pyplot as plt\n",
    "from matplotlib import gridspec"
   ]
  },
  {
   "cell_type": "code",
   "execution_count": null,
   "metadata": {
    "execution": {
     "iopub.execute_input": "2024-02-28T12:02:33.179570Z",
     "iopub.status.busy": "2024-02-28T12:02:33.178821Z",
     "iopub.status.idle": "2024-02-28T12:02:33.184489Z",
     "shell.execute_reply": "2024-02-28T12:02:33.183466Z",
     "shell.execute_reply.started": "2024-02-28T12:02:33.179538Z"
    }
   },
   "outputs": [],
   "source": [
    "NAME = \"cifakeCNN{}\".format(time.strftime(\"%Y%m%d-%H%M%S\"))\n",
    "\n",
    "tensorboard = TensorBoard(log_dir=\"logs/{}\".format(NAME))"
   ]
  },
  {
   "cell_type": "code",
   "execution_count": null,
   "metadata": {
    "execution": {
     "iopub.execute_input": "2024-02-27T23:07:27.441399Z",
     "iopub.status.busy": "2024-02-27T23:07:27.441092Z",
     "iopub.status.idle": "2024-02-27T23:07:27.756471Z",
     "shell.execute_reply": "2024-02-27T23:07:27.755141Z",
     "shell.execute_reply.started": "2024-02-27T23:07:27.441376Z"
    }
   },
   "outputs": [],
   "source": [
    "print(\"Num GPUs Available: \", len(tf.config.list_physical_devices('GPU')))"
   ]
  },
  {
   "cell_type": "code",
   "execution_count": null,
   "metadata": {
    "execution": {
     "iopub.execute_input": "2024-02-27T23:07:27.759130Z",
     "iopub.status.busy": "2024-02-27T23:07:27.758701Z",
     "iopub.status.idle": "2024-02-27T23:07:27.768860Z",
     "shell.execute_reply": "2024-02-27T23:07:27.767836Z",
     "shell.execute_reply.started": "2024-02-27T23:07:27.759095Z"
    }
   },
   "outputs": [],
   "source": [
    "# gpus = tf.config.list_physical_devices('GPU')\n",
    "# if gpus:\n",
    "#   # Restrict TensorFlow to only allocate 1GB of memory on the first GPU\n",
    "#   try:\n",
    "#     tf.config.set_logical_device_configuration(\n",
    "#         gpus[0],\n",
    "#         [tf.config.LogicalDeviceConfiguration(memory_limit=1024)])\n",
    "#     logical_gpus = tf.config.list_logical_devices('GPU')\n",
    "#     print(len(gpus), \"Physical GPUs,\", len(logical_gpus), \"Logical GPUs\")\n",
    "#   except RuntimeError as e:\n",
    "#     # Virtual devices must be set before GPUs have been initialized\n",
    "#     print(e)"
   ]
  },
  {
   "cell_type": "code",
   "execution_count": null,
   "metadata": {
    "execution": {
     "iopub.execute_input": "2024-02-27T23:07:27.770336Z",
     "iopub.status.busy": "2024-02-27T23:07:27.769985Z",
     "iopub.status.idle": "2024-02-27T23:07:27.780051Z",
     "shell.execute_reply": "2024-02-27T23:07:27.779084Z",
     "shell.execute_reply.started": "2024-02-27T23:07:27.770311Z"
    }
   },
   "outputs": [],
   "source": [
    "# tf.config.threading.set_intra_op_parallelism_threads(1)\n",
    "# tf.config.threading.set_inter_op_parallelism_threads(1)"
   ]
  },
  {
   "cell_type": "code",
   "execution_count": null,
   "metadata": {
    "execution": {
     "iopub.execute_input": "2024-02-27T23:07:27.781377Z",
     "iopub.status.busy": "2024-02-27T23:07:27.781094Z",
     "iopub.status.idle": "2024-02-27T23:08:38.353194Z",
     "shell.execute_reply": "2024-02-27T23:08:38.352364Z",
     "shell.execute_reply.started": "2024-02-27T23:07:27.781353Z"
    }
   },
   "outputs": [],
   "source": [
    "ds_train = image_dataset_from_directory(\n",
    "    '/kaggle/input/cifar-10-fake-image-dataset/cifar-10-dataset/train',\n",
    "    labels='inferred',\n",
    "    label_mode='binary',\n",
    "    image_size=[32,32],\n",
    "    interpolation='nearest',\n",
    "    batch_size=32,\n",
    "    shuffle=True,\n",
    "    seed=69,\n",
    "    #validation_split=None,\n",
    "    subset=None,\n",
    "    follow_links=False,\n",
    "    crop_to_aspect_ratio=False,\n",
    ")"
   ]
  },
  {
   "cell_type": "code",
   "execution_count": null,
   "metadata": {
    "execution": {
     "iopub.execute_input": "2024-02-27T23:08:38.354521Z",
     "iopub.status.busy": "2024-02-27T23:08:38.354239Z",
     "iopub.status.idle": "2024-02-27T23:08:50.643079Z",
     "shell.execute_reply": "2024-02-27T23:08:50.642311Z",
     "shell.execute_reply.started": "2024-02-27T23:08:38.354498Z"
    }
   },
   "outputs": [],
   "source": [
    "ds_test = image_dataset_from_directory(\n",
    "    '/kaggle/input/cifar-10-fake-image-dataset/cifar-10-dataset/test',\n",
    "    labels='inferred',\n",
    "    label_mode='binary',\n",
    "    image_size=[32,32],\n",
    "    interpolation='nearest',\n",
    "    batch_size=32,\n",
    "    shuffle=True,\n",
    "    seed=69,\n",
    "    #validation_split=None,\n",
    "    subset=None,\n",
    "    follow_links=False,\n",
    "    crop_to_aspect_ratio=False,\n",
    ")"
   ]
  },
  {
   "cell_type": "code",
   "execution_count": null,
   "metadata": {
    "execution": {
     "iopub.execute_input": "2024-02-27T23:08:50.644338Z",
     "iopub.status.busy": "2024-02-27T23:08:50.644075Z",
     "iopub.status.idle": "2024-02-27T23:08:50.649126Z",
     "shell.execute_reply": "2024-02-27T23:08:50.648236Z",
     "shell.execute_reply.started": "2024-02-27T23:08:50.644316Z"
    }
   },
   "outputs": [],
   "source": [
    "def convert_to_float(image, label):\n",
    "    image = tf.image.convert_image_dtype(image, dtype=tf.float32)\n",
    "    return image, label\n",
    "\n",
    "AUTOTUNE = tf.data.experimental.AUTOTUNE\n"
   ]
  },
  {
   "cell_type": "code",
   "execution_count": null,
   "metadata": {
    "execution": {
     "iopub.execute_input": "2024-02-27T23:08:50.652823Z",
     "iopub.status.busy": "2024-02-27T23:08:50.652521Z",
     "iopub.status.idle": "2024-02-27T23:08:50.717504Z",
     "shell.execute_reply": "2024-02-27T23:08:50.716810Z",
     "shell.execute_reply.started": "2024-02-27T23:08:50.652768Z"
    }
   },
   "outputs": [],
   "source": [
    "ds_train = (\n",
    "    ds_train\n",
    "    .map(convert_to_float)\n",
    "    .cache()\n",
    "    .prefetch(buffer_size=AUTOTUNE)\n",
    ")\n"
   ]
  },
  {
   "cell_type": "code",
   "execution_count": null,
   "metadata": {
    "execution": {
     "iopub.execute_input": "2024-02-27T23:08:50.718768Z",
     "iopub.status.busy": "2024-02-27T23:08:50.718506Z",
     "iopub.status.idle": "2024-02-27T23:08:50.734129Z",
     "shell.execute_reply": "2024-02-27T23:08:50.733349Z",
     "shell.execute_reply.started": "2024-02-27T23:08:50.718745Z"
    }
   },
   "outputs": [],
   "source": [
    "ds_valid = (\n",
    "    ds_test\n",
    "    .map(convert_to_float)\n",
    "    .cache()\n",
    "    .prefetch(buffer_size=AUTOTUNE)\n",
    ")"
   ]
  },
  {
   "cell_type": "code",
   "execution_count": null,
   "metadata": {
    "execution": {
     "iopub.execute_input": "2024-02-27T23:08:50.735430Z",
     "iopub.status.busy": "2024-02-27T23:08:50.735139Z",
     "iopub.status.idle": "2024-02-27T23:08:50.741025Z",
     "shell.execute_reply": "2024-02-27T23:08:50.740217Z",
     "shell.execute_reply.started": "2024-02-27T23:08:50.735404Z"
    }
   },
   "outputs": [],
   "source": [
    "early_stopping = keras.callbacks.EarlyStopping(\n",
    "    monitor='val_loss',\n",
    "    patience=10,\n",
    "    min_delta=0.001,\n",
    "    restore_best_weights=True)"
   ]
  },
  {
   "cell_type": "code",
   "execution_count": null,
   "metadata": {
    "execution": {
     "iopub.execute_input": "2024-02-27T23:08:50.742298Z",
     "iopub.status.busy": "2024-02-27T23:08:50.742016Z",
     "iopub.status.idle": "2024-02-27T23:08:50.752390Z",
     "shell.execute_reply": "2024-02-27T23:08:50.751597Z",
     "shell.execute_reply.started": "2024-02-27T23:08:50.742268Z"
    }
   },
   "outputs": [],
   "source": [
    "from tensorflow.keras.callbacks import ReduceLROnPlateau\n",
    "\n",
    "reduce_lr = ReduceLROnPlateau(monitor='val_loss', factor=0.2, patience=7, min_lr=0.0008)"
   ]
  },
  {
   "cell_type": "code",
   "execution_count": null,
   "metadata": {
    "execution": {
     "iopub.execute_input": "2024-02-27T23:08:50.753732Z",
     "iopub.status.busy": "2024-02-27T23:08:50.753429Z",
     "iopub.status.idle": "2024-02-27T23:08:50.763966Z",
     "shell.execute_reply": "2024-02-27T23:08:50.763084Z",
     "shell.execute_reply.started": "2024-02-27T23:08:50.753709Z"
    }
   },
   "outputs": [],
   "source": [
    "from tensorflow.keras.callbacks import ModelCheckpoint\n",
    "timestamp = time.strftime(\"%Y%m%d-%H%M%S\")\n",
    "model_checkpoint = ModelCheckpoint(\n",
    "    f'/kaggle/working/best/best_model_{timestamp}.keras', monitor='val_loss', save_best_only=True, mode='min'\n",
    ")"
   ]
  },
  {
   "cell_type": "code",
   "execution_count": null,
   "metadata": {
    "execution": {
     "iopub.execute_input": "2024-02-27T23:08:50.765326Z",
     "iopub.status.busy": "2024-02-27T23:08:50.765076Z",
     "iopub.status.idle": "2024-02-27T23:08:50.964655Z",
     "shell.execute_reply": "2024-02-27T23:08:50.963829Z",
     "shell.execute_reply.started": "2024-02-27T23:08:50.765305Z"
    }
   },
   "outputs": [],
   "source": [
    "def MBConv6(input_tensor, hp=None, out_channels=32, expansion=6, use_se=True, dropout_rate=0.0):\n",
    "    # Inverted Residual Structure\n",
    "    # Pointwise Convolution  1 with Expansion Factor  6\n",
    "    x = layers.Conv2D(expansion * input_tensor.shape[-1], (1,  1), padding='same', use_bias=False)(input_tensor)\n",
    "    x = layers.BatchNormalization()(x)\n",
    "    x = layers.Activation(swish)(x)\n",
    "\n",
    "    # Depthwise Separable Convolution with stride (1,  1)\n",
    "    x = layers.DepthwiseConv2D(kernel_size=(3,  3), strides=(1,  1), padding='same', use_bias=False)(x)\n",
    "    x = layers.BatchNormalization()(x)\n",
    "    x = layers.Activation(swish)(x)\n",
    "\n",
    "    # Pointwise Convolution  2\n",
    "    x = layers.Conv2D(out_channels, (1,  1), padding='same', use_bias=False)(x)\n",
    "    x = layers.BatchNormalization()(x)\n",
    "\n",
    "    # Dropout\n",
    "    if dropout_rate >  0.0:\n",
    "        x = layers.Dropout(dropout_rate)(x)\n",
    "\n",
    "    # Bottleneck Convolution  \n",
    "    x = layers.Conv2D(out_channels, (1,  1), padding='same', use_bias=False)(x)\n",
    "    x = layers.BatchNormalization()(x)\n",
    "\n",
    "    # Squeeze-and-Excitation\n",
    "    if use_se:\n",
    "        se_shape = (1,  1, out_channels)\n",
    "        se = layers.GlobalAveragePooling2D()(x)\n",
    "        se = layers.Reshape(se_shape)(se)\n",
    "        se = layers.Conv2D(out_channels //  4, (1,  1), padding='same', use_bias=True)(se)\n",
    "        se = layers.Activation(swish)(se)\n",
    "        se = layers.Conv2D(out_channels, (1,  1), padding='same', use_bias=True)(se)\n",
    "        se = layers.Activation('sigmoid')(se)\n",
    "        x = layers.Multiply()([x, se])\n",
    "\n",
    "    # Residual\n",
    "    if input_tensor.shape[-1] == out_channels:\n",
    "        shortcut = input_tensor\n",
    "    else:\n",
    "        shortcut = layers.Conv2D(out_channels, (1,  1), strides=(1,  1), padding='same', use_bias=False)(input_tensor)\n",
    "        shortcut = layers.BatchNormalization()(shortcut)\n",
    "\n",
    "    x = layers.Add()([x, shortcut])\n",
    "\n",
    "    return x\n",
    "input_tensor = layers.Input(shape=(32,  32,  16)) \n",
    "output_tensor = MBConv6(input_tensor)\n",
    "model = keras.models.Model(inputs=input_tensor, outputs=output_tensor)\n",
    "\n",
    "model.summary()"
   ]
  },
  {
   "cell_type": "code",
   "execution_count": null,
   "metadata": {
    "execution": {
     "iopub.execute_input": "2024-02-27T23:08:50.966261Z",
     "iopub.status.busy": "2024-02-27T23:08:50.965977Z",
     "iopub.status.idle": "2024-02-27T23:08:51.095721Z",
     "shell.execute_reply": "2024-02-27T23:08:51.094745Z",
     "shell.execute_reply.started": "2024-02-27T23:08:50.966236Z"
    }
   },
   "outputs": [],
   "source": [
    "\n",
    "def MBConv1(input_tensor, hp=None, expansion=4, out_channels=16, strides=(1,   1), use_se=True):\n",
    "    # Expansion\n",
    "    x = layers.Conv2D(expansion, (1,   1), padding='same', use_bias=False)(input_tensor)\n",
    "    x = layers.BatchNormalization()(x)\n",
    "    x = layers.Activation(swish)(x)\n",
    "\n",
    "    # Depthwise \n",
    "    x = layers.DepthwiseConv2D(kernel_size=(3,   3), strides=strides, padding='same', use_bias=False)(x)\n",
    "    x = layers.BatchNormalization()(x)\n",
    "    x = layers.Activation(swish)(x) \n",
    "\n",
    "    # Pointwise \n",
    "    x = layers.Conv2D(out_channels, (1,   1), padding='same', use_bias=False)(x)\n",
    "    x = layers.BatchNormalization()(x)\n",
    "\n",
    "    # Squeeze-and-Excitation\n",
    "    if use_se:\n",
    "        se_shape = (1,  1, out_channels)\n",
    "        se = layers.GlobalAveragePooling2D()(x)\n",
    "        se = layers.Reshape((1,  1, out_channels))(se) \n",
    "        se = layers.Conv2D(out_channels //  2, (1,  1), padding='same', use_bias=True)(se) \n",
    "        se = layers.Activation(swish)(se)   \n",
    "        se = layers.Conv2D(out_channels, (1,  1), padding='same', use_bias=True)(se) \n",
    "        se = layers.Activation('sigmoid')(se)\n",
    "        se = layers.Reshape(se_shape[1:])(se)  # Reshape to original\n",
    "        x = layers.Multiply()([x, se])\n",
    "\n",
    "    # Residual\n",
    "    if input_tensor.shape[-1] == out_channels and strides == (1,   1):\n",
    "        x = layers.Add()([x, input_tensor])\n",
    "    else:\n",
    "        input_tensor = layers.Conv2D(out_channels, (1,   1), strides=strides, padding='same', use_bias=False)(input_tensor)\n",
    "        x = layers.Add()([x, input_tensor])\n",
    "\n",
    "    return x\n",
    "\n",
    "input_tensor = layers.Input(shape=(32,  32,  3)) \n",
    "output_tensor = MBConv1(input_tensor)\n",
    "model = keras.models.Model(inputs=input_tensor, outputs=output_tensor)\n",
    "\n",
    "model.summary()"
   ]
  },
  {
   "cell_type": "code",
   "execution_count": null,
   "metadata": {
    "execution": {
     "iopub.execute_input": "2024-02-27T23:08:51.097379Z",
     "iopub.status.busy": "2024-02-27T23:08:51.097099Z",
     "iopub.status.idle": "2024-02-27T23:08:51.863289Z",
     "shell.execute_reply": "2024-02-27T23:08:51.862466Z",
     "shell.execute_reply.started": "2024-02-27T23:08:51.097355Z"
    }
   },
   "outputs": [],
   "source": [
    "import keras_tuner\n",
    "from keras_tuner import RandomSearch, Hyperband\n",
    "from tensorflow.keras.models import Model\n",
    "\n",
    "def build_model(hp=None):\n",
    "    activation_function = 'leaky_relu' if hp.Boolean(f'use_leaky_relu') else 'relu'\n",
    "    input_tensor = layers.Input(shape=[32,  32,  3])\n",
    "    \n",
    "    x = layers.RandomRotation(factor=0.1488228133769420)(input_tensor)\n",
    "    x = layers.RandomTranslation(height_factor=0.069, width_factor=0.069)(x)\n",
    "    x = layers.RandomFlip(mode='horizontal')(x)\n",
    "    x = layers.BatchNormalization()(x)\n",
    "    \n",
    "\n",
    "    x = MBConv1(x, hp=hp)\n",
    "    x = MBConv6(input_tensor, hp=hp, out_channels=hp.Int('out_channels_1', min_value=20, max_value=44, step=12),\n",
    "                expansion=hp.Int('expansion_1', min_value=4, max_value=8, step=2),\n",
    "                use_se=hp.Boolean('use_se_1'),\n",
    "                dropout_rate=hp.Float('conv6_dropout_rate_1', min_value=0.0, max_value=0.2, step=0.1))\n",
    "    x = MBConv6(input_tensor, hp=hp, out_channels=hp.Int('out_channels_1', min_value=20, max_value=44, step=12),\n",
    "                expansion=hp.Int('expansion_1', min_value=4, max_value=8, step=2),\n",
    "                use_se=hp.Boolean('use_se_1'),\n",
    "                dropout_rate=hp.Float('conv6_dropout_rate_1', min_value=0.0, max_value=0.2, step=0.1))\n",
    "    x = MBConv6(input_tensor, hp=hp, out_channels=hp.Int('out_channels_1', min_value=20, max_value=44, step=12),\n",
    "                expansion=hp.Int('expansion_1', min_value=4, max_value=8, step=2),\n",
    "                use_se=hp.Boolean('use_se_1'),\n",
    "                dropout_rate=hp.Float('conv6_dropout_rate_1', min_value=0.0, max_value=0.2, step=0.1))\n",
    "    x = MBConv6(input_tensor, hp=hp, out_channels=hp.Int('out_channels_2', min_value=20, max_value=44, step=12),\n",
    "                expansion=hp.Int('expansion_2', min_value=4, max_value=8, step=2),\n",
    "                use_se=hp.Boolean('use_se_2'),\n",
    "                dropout_rate=hp.Float('conv6_dropout_rate_2', min_value=0.0, max_value=0.2, step=0.1))\n",
    "    x = MBConv6(input_tensor, hp=hp, out_channels=hp.Int('out_channels_2', min_value=20, max_value=44, step=12),\n",
    "                expansion=hp.Int('expansion_2', min_value=4, max_value=8, step=2),\n",
    "                use_se=hp.Boolean('use_se_2'),\n",
    "                dropout_rate=hp.Float('conv6_dropout_rate_2', min_value=0.0, max_value=0.2, step=0.1))\n",
    "    x = MBConv6(input_tensor, hp=hp, out_channels=hp.Int('out_channels_2', min_value=20, max_value=44, step=12),\n",
    "                expansion=hp.Int('expansion_2', min_value=4, max_value=8, step=2),\n",
    "                use_se=hp.Boolean('use_se_2'),\n",
    "                dropout_rate=hp.Float('conv6_dropout_rate_2', min_value=0.0, max_value=0.2, step=0.1))\n",
    "    if hp.Boolean('use_maxpool'):\n",
    "        x = layers.MaxPool2D()(x)\n",
    "\n",
    "    x = layers.Conv2D(filters=hp.Int('conv_filter', min_value=32, max_value=96, step=64),\n",
    "                      kernel_size=hp.Choice('conv_kernel', values=[3,  7]),\n",
    "                      activation=activation_function, padding='same',\n",
    "                      kernel_regularizer=keras.regularizers.l2(0.003) if hp.Boolean('l2_reg') else None)(x)\n",
    "    x = layers.BatchNormalization()(x)\n",
    "\n",
    "    x = layers.Conv2D(filters=hp.Int('conv_filter', min_value=32, max_value=96, step=64),\n",
    "                      kernel_size=hp.Choice('conv_kernel', values=[3,  7]),\n",
    "                      activation=activation_function, padding='same',\n",
    "                      kernel_regularizer=keras.regularizers.l2(0.003) if hp.Boolean('l2_reg') else None)(x)\n",
    "    if hp.Boolean('use_maxpool'):\n",
    "        x = layers.MaxPool2D()(x)\n",
    "\n",
    "    x = layers.BatchNormalization()(x)\n",
    "    x = layers.Flatten()(x)\n",
    "    \n",
    "\n",
    "    for i in range(hp.Int('num_dense_layers', min_value=4, max_value=6, step=2)):   \n",
    "        x = layers.Dense(hp.Int(f'dense_units', min_value=512, max_value=1024, step=512),\n",
    "                         activation=activation_function,\n",
    "                         kernel_regularizer=keras.regularizers.l2(0.003) if hp.Boolean('l2_reg') else None)(x)\n",
    "        x = layers.Dropout(hp.Float(f'dropout_rate', min_value=0.0, max_value=0.4, step=0.2))(x)\n",
    "    \n",
    "    x = layers.Dense(1, activation='sigmoid')(x)\n",
    "    \n",
    "    optimizer = tf.keras.optimizers.Adam(learning_rate=hp.Float('learning_rate', min_value=0.005, max_value=0.08, sampling='LOG'),\n",
    "                                         epsilon=0.01)\n",
    "    model = Model(inputs=input_tensor, outputs=x)\n",
    "    model.compile(optimizer=optimizer,\n",
    "                  loss='binary_crossentropy',\n",
    "                  metrics=['binary_accuracy'])\n",
    "    return model\n"
   ]
  },
  {
   "cell_type": "code",
   "execution_count": null,
   "metadata": {
    "execution": {
     "iopub.execute_input": "2024-02-27T23:08:51.865040Z",
     "iopub.status.busy": "2024-02-27T23:08:51.864360Z",
     "iopub.status.idle": "2024-02-27T23:08:51.880023Z",
     "shell.execute_reply": "2024-02-27T23:08:51.879132Z",
     "shell.execute_reply.started": "2024-02-27T23:08:51.865013Z"
    }
   },
   "outputs": [],
   "source": [
    "tuner = Hyperband(\n",
    "    build_model,\n",
    "    objective='val_binary_accuracy',\n",
    "    max_epochs=40,\n",
    "    factor=2,\n",
    "    directory='/kaggle/working/projects',\n",
    "    project_name='cifake_hyperband_1')"
   ]
  },
  {
   "cell_type": "code",
   "execution_count": null,
   "metadata": {
    "execution": {
     "iopub.execute_input": "2024-02-27T23:08:51.881560Z",
     "iopub.status.busy": "2024-02-27T23:08:51.881204Z",
     "iopub.status.idle": "2024-02-27T23:10:47.996533Z",
     "shell.execute_reply": "2024-02-27T23:10:47.995051Z",
     "shell.execute_reply.started": "2024-02-27T23:08:51.881529Z"
    }
   },
   "outputs": [],
   "source": [
    "# Start the hyperparameter search with early stopping\n",
    "tuner.search(ds_train, epochs=40, validation_data=ds_valid, callbacks=[early_stopping, tensorboard, reduce_lr, model_checkpoint])\n",
    "\n",
    "best_model = tuner.get_best_models(num_models=1)[0]"
   ]
  },
  {
   "cell_type": "code",
   "execution_count": null,
   "metadata": {
    "execution": {
     "iopub.status.busy": "2024-02-27T23:10:47.997389Z",
     "iopub.status.idle": "2024-02-27T23:10:47.997722Z",
     "shell.execute_reply": "2024-02-27T23:10:47.997577Z",
     "shell.execute_reply.started": "2024-02-27T23:10:47.997564Z"
    }
   },
   "outputs": [],
   "source": [
    "best_model.summary()"
   ]
  },
  {
   "cell_type": "code",
   "execution_count": null,
   "metadata": {
    "execution": {
     "iopub.status.busy": "2024-02-27T23:10:47.998903Z",
     "iopub.status.idle": "2024-02-27T23:10:47.999350Z",
     "shell.execute_reply": "2024-02-27T23:10:47.999129Z",
     "shell.execute_reply.started": "2024-02-27T23:10:47.999111Z"
    }
   },
   "outputs": [],
   "source": [
    "tuner.results_summary()"
   ]
  },
  {
   "cell_type": "code",
   "execution_count": null,
   "metadata": {
    "execution": {
     "iopub.status.busy": "2024-02-27T23:10:48.000892Z",
     "iopub.status.idle": "2024-02-27T23:10:48.001312Z",
     "shell.execute_reply": "2024-02-27T23:10:48.001112Z",
     "shell.execute_reply.started": "2024-02-27T23:10:48.001095Z"
    }
   },
   "outputs": [],
   "source": [
    "best_model.save(f\"/kaggle/working/BEST{NAME}.keras\")\n"
   ]
  },
  {
   "cell_type": "code",
   "execution_count": null,
   "metadata": {},
   "outputs": [],
   "source": []
  }
 ],
 "metadata": {
  "kaggle": {
   "accelerator": "nvidiaTeslaT4",
   "dataSources": [
    {
     "datasetId": 4500471,
     "sourceId": 7708047,
     "sourceType": "datasetVersion"
    },
    {
     "datasetId": 4528120,
     "sourceId": 7746027,
     "sourceType": "datasetVersion"
    }
   ],
   "dockerImageVersionId": 30665,
   "isGpuEnabled": true,
   "isInternetEnabled": true,
   "language": "python",
   "sourceType": "notebook"
  },
  "kernelspec": {
   "display_name": "Python 3 (ipykernel)",
   "language": "python",
   "name": "python3"
  },
  "language_info": {
   "codemirror_mode": {
    "name": "ipython",
    "version": 3
   },
   "file_extension": ".py",
   "mimetype": "text/x-python",
   "name": "python",
   "nbconvert_exporter": "python",
   "pygments_lexer": "ipython3",
   "version": "3.11.0"
  }
 },
 "nbformat": 4,
 "nbformat_minor": 4
}
