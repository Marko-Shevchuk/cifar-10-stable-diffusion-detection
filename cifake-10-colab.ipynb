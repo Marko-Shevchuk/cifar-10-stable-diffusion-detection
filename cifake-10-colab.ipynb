{
 "cells": [
  {
   "cell_type": "code",
   "execution_count": null,
   "id": "78849fd9-c310-45bc-9710-76629c301f7f",
   "metadata": {},
   "outputs": [],
   "source": [
    "#  Copyright 2024 Marko Shevchuk, Yevhen Selepii, Marian Starovoitov, Vadym\n",
    "#  Tsvyk, Nataliia Tymkiv, Nadiia Honcharyk \n",
    "\n",
    "#  This file is part of cifar-10-stable-diffusion-detection on GitHub.\n",
    "\n",
    "#  cifar-10-stable-diffusion-detection is free software: you can redistribute\n",
    "#  it and/or modify it under the terms of the GNU General Public License as published by\n",
    "#  the Free Software Foundation, either version 3 of the License, or\n",
    "#  (at your option) any later version.\n",
    "\n",
    "#  cifar-10-stable-diffusion-detection is distributed in the hope that it will be useful,\n",
    "#  but WITHOUT ANY WARRANTY; without even the implied warranty of\n",
    "#  MERCHANTABILITY or FITNESS FOR A PARTICULAR PURPOSE.  See the\n",
    "#  GNU General Public License for more details.\n",
    "\n",
    "#  You should have received a copy of the GNU General Public License\n",
    "#  along with cifar-10-stable-diffusion-detection. If not, see http://www.gnu.org/licenses/.\n"
   ]
  },
  {
   "cell_type": "code",
   "execution_count": 11,
   "id": "980ee2a9",
   "metadata": {
    "execution": {
     "iopub.execute_input": "2024-04-24T20:20:16.634483Z",
     "iopub.status.busy": "2024-04-24T20:20:16.633641Z",
     "iopub.status.idle": "2024-04-24T20:20:29.693128Z",
     "shell.execute_reply": "2024-04-24T20:20:29.692256Z"
    },
    "executionInfo": {
     "elapsed": 465,
     "status": "ok",
     "timestamp": 1714416613352,
     "user": {
      "displayName": "Normal Human Person",
      "userId": "03663057191322261591"
     },
     "user_tz": -180
    },
    "id": "980ee2a9",
    "papermill": {
     "duration": 13.072831,
     "end_time": "2024-04-24T20:20:29.695632",
     "exception": false,
     "start_time": "2024-04-24T20:20:16.622801",
     "status": "completed"
    },
    "tags": []
   },
   "outputs": [],
   "source": [
    "import pandas as pd\n",
    "import numpy as np\n",
    "import os\n",
    "import tensorflow as tf\n",
    "from keras.utils import image_dataset_from_directory\n",
    "from tensorflow import keras\n",
    "from keras import layers\n",
    "from keras.activations import swish\n",
    "from keras.callbacks import TensorBoard\n",
    "import time\n",
    "import matplotlib.pyplot as plt\n",
    "from matplotlib import gridspec"
   ]
  },
  {
   "cell_type": "code",
   "execution_count": 12,
   "id": "vBFsmR2wKcl9",
   "metadata": {
    "colab": {
     "base_uri": "https://localhost:8080/"
    },
    "executionInfo": {
     "elapsed": 2313,
     "status": "ok",
     "timestamp": 1714416615659,
     "user": {
      "displayName": "Normal Human Person",
      "userId": "03663057191322261591"
     },
     "user_tz": -180
    },
    "id": "vBFsmR2wKcl9",
    "outputId": "e45318e5-10e6-4ada-b854-929a0de59d99"
   },
   "outputs": [
    {
     "name": "stdout",
     "output_type": "stream",
     "text": [
      "Drive already mounted at /content/drive; to attempt to forcibly remount, call drive.mount(\"/content/drive\", force_remount=True).\n"
     ]
    }
   ],
   "source": [
    "from google.colab import drive\n",
    "drive.mount('/content/drive')"
   ]
  },
  {
   "cell_type": "code",
   "execution_count": 13,
   "id": "CUjidOkNO-OZ",
   "metadata": {
    "colab": {
     "base_uri": "https://localhost:8080/"
    },
    "executionInfo": {
     "elapsed": 28,
     "status": "ok",
     "timestamp": 1714416615659,
     "user": {
      "displayName": "Normal Human Person",
      "userId": "03663057191322261591"
     },
     "user_tz": -180
    },
    "id": "CUjidOkNO-OZ",
    "outputId": "c6a51ba5-a806-4617-bdb9-9ae5348d6627"
   },
   "outputs": [
    {
     "name": "stdout",
     "output_type": "stream",
     "text": [
      "logs  projects\ttest  train\n"
     ]
    }
   ],
   "source": [
    "!ls \"/content/drive/MyDrive/COLAB/cifake\""
   ]
  },
  {
   "cell_type": "code",
   "execution_count": 14,
   "id": "0395682b",
   "metadata": {
    "colab": {
     "base_uri": "https://localhost:8080/"
    },
    "execution": {
     "iopub.execute_input": "2024-04-24T20:20:29.735933Z",
     "iopub.status.busy": "2024-04-24T20:20:29.735652Z",
     "iopub.status.idle": "2024-04-24T20:20:29.987588Z",
     "shell.execute_reply": "2024-04-24T20:20:29.986604Z"
    },
    "executionInfo": {
     "elapsed": 19,
     "status": "ok",
     "timestamp": 1714416615660,
     "user": {
      "displayName": "Normal Human Person",
      "userId": "03663057191322261591"
     },
     "user_tz": -180
    },
    "id": "0395682b",
    "outputId": "326c9174-0557-459e-a28e-000c7af44de9",
    "papermill": {
     "duration": 0.263471,
     "end_time": "2024-04-24T20:20:29.990696",
     "exception": false,
     "start_time": "2024-04-24T20:20:29.727225",
     "status": "completed"
    },
    "tags": []
   },
   "outputs": [
    {
     "name": "stdout",
     "output_type": "stream",
     "text": [
      "Num GPUs Available:  0\n"
     ]
    }
   ],
   "source": [
    "print(\"Num GPUs Available: \", len(tf.config.list_physical_devices('GPU')))"
   ]
  },
  {
   "cell_type": "code",
   "execution_count": 15,
   "id": "e3095e27",
   "metadata": {
    "execution": {
     "iopub.execute_input": "2024-04-24T20:20:30.007391Z",
     "iopub.status.busy": "2024-04-24T20:20:30.007047Z",
     "iopub.status.idle": "2024-04-24T20:20:30.011300Z",
     "shell.execute_reply": "2024-04-24T20:20:30.010428Z"
    },
    "executionInfo": {
     "elapsed": 15,
     "status": "ok",
     "timestamp": 1714416615660,
     "user": {
      "displayName": "Normal Human Person",
      "userId": "03663057191322261591"
     },
     "user_tz": -180
    },
    "id": "e3095e27",
    "papermill": {
     "duration": 0.014758,
     "end_time": "2024-04-24T20:20:30.013167",
     "exception": false,
     "start_time": "2024-04-24T20:20:29.998409",
     "status": "completed"
    },
    "tags": []
   },
   "outputs": [],
   "source": [
    "input_dir = \"/content/drive/MyDrive/COLAB/cifake/\" #! Drive path\n",
    "working_dir = \"/content/drive/MyDrive/COLAB/cifake/\" #! Drive path"
   ]
  },
  {
   "cell_type": "code",
   "execution_count": 16,
   "id": "8ed4aa18",
   "metadata": {
    "execution": {
     "iopub.execute_input": "2024-04-24T20:20:29.713279Z",
     "iopub.status.busy": "2024-04-24T20:20:29.712695Z",
     "iopub.status.idle": "2024-04-24T20:20:29.717449Z",
     "shell.execute_reply": "2024-04-24T20:20:29.716564Z"
    },
    "executionInfo": {
     "elapsed": 15,
     "status": "ok",
     "timestamp": 1714416615661,
     "user": {
      "displayName": "Normal Human Person",
      "userId": "03663057191322261591"
     },
     "user_tz": -180
    },
    "id": "8ed4aa18",
    "papermill": {
     "duration": 0.015538,
     "end_time": "2024-04-24T20:20:29.719634",
     "exception": false,
     "start_time": "2024-04-24T20:20:29.704096",
     "status": "completed"
    },
    "tags": []
   },
   "outputs": [],
   "source": [
    "NAME = \"cifakeCNN{}\".format(time.strftime(\"%Y%m%d-%H%M%S\"))\n",
    "tensorboard = TensorBoard(log_dir=\"logs/{}\".format(NAME))"
   ]
  },
  {
   "cell_type": "code",
   "execution_count": 17,
   "id": "dcd19022",
   "metadata": {
    "execution": {
     "iopub.execute_input": "2024-04-24T20:20:30.029501Z",
     "iopub.status.busy": "2024-04-24T20:20:30.029211Z",
     "iopub.status.idle": "2024-04-24T20:20:30.033392Z",
     "shell.execute_reply": "2024-04-24T20:20:30.032633Z"
    },
    "executionInfo": {
     "elapsed": 13,
     "status": "ok",
     "timestamp": 1714416615661,
     "user": {
      "displayName": "Normal Human Person",
      "userId": "03663057191322261591"
     },
     "user_tz": -180
    },
    "id": "dcd19022",
    "papermill": {
     "duration": 0.014649,
     "end_time": "2024-04-24T20:20:30.035364",
     "exception": false,
     "start_time": "2024-04-24T20:20:30.020715",
     "status": "completed"
    },
    "tags": []
   },
   "outputs": [],
   "source": [
    "# gpus = tf.config.list_physical_devices('GPU')\n",
    "# if gpus:\n",
    "#   # \"\"\"Restrict TensorFlow to only allocate 1GB of memory on the first GPU\"\"\"\n",
    "#   try:\n",
    "#     tf.config.set_logical_device_configuration(\n",
    "#         gpus[0],\n",
    "#         [tf.config.LogicalDeviceConfiguration(memory_limit=1024)])\n",
    "#     logical_gpus = tf.config.list_logical_devices('GPU')\n",
    "#     print(len(gpus), \"Physical GPUs,\", len(logical_gpus), \"Logical GPUs\")\n",
    "#   except RuntimeError as e:\n",
    "#     # Virtual devices must be set before GPUs have been initialized\n",
    "#     print(e)"
   ]
  },
  {
   "cell_type": "code",
   "execution_count": 18,
   "id": "cc1cc2d6",
   "metadata": {
    "execution": {
     "iopub.execute_input": "2024-04-24T20:20:30.052052Z",
     "iopub.status.busy": "2024-04-24T20:20:30.051592Z",
     "iopub.status.idle": "2024-04-24T20:20:30.055393Z",
     "shell.execute_reply": "2024-04-24T20:20:30.054456Z"
    },
    "executionInfo": {
     "elapsed": 12,
     "status": "ok",
     "timestamp": 1714416615661,
     "user": {
      "displayName": "Normal Human Person",
      "userId": "03663057191322261591"
     },
     "user_tz": -180
    },
    "id": "cc1cc2d6",
    "papermill": {
     "duration": 0.014495,
     "end_time": "2024-04-24T20:20:30.057360",
     "exception": false,
     "start_time": "2024-04-24T20:20:30.042865",
     "status": "completed"
    },
    "tags": []
   },
   "outputs": [],
   "source": [
    "#! \"\"\"When running locally, limits the threads to 1 (only uses one thread of one CPU core)\"\"\"\n",
    "# tf.config.threading.set_intra_op_parallelism_threads(1)\n",
    "# tf.config.threading.set_inter_op_parallelism_threads(1)"
   ]
  },
  {
   "cell_type": "code",
   "execution_count": 19,
   "id": "90304867",
   "metadata": {
    "execution": {
     "iopub.execute_input": "2024-04-24T20:20:30.073518Z",
     "iopub.status.busy": "2024-04-24T20:20:30.073169Z",
     "iopub.status.idle": "2024-04-24T20:20:30.077098Z",
     "shell.execute_reply": "2024-04-24T20:20:30.076265Z"
    },
    "executionInfo": {
     "elapsed": 11,
     "status": "ok",
     "timestamp": 1714416615661,
     "user": {
      "displayName": "Normal Human Person",
      "userId": "03663057191322261591"
     },
     "user_tz": -180
    },
    "id": "90304867",
    "papermill": {
     "duration": 0.014142,
     "end_time": "2024-04-24T20:20:30.078994",
     "exception": false,
     "start_time": "2024-04-24T20:20:30.064852",
     "status": "completed"
    },
    "tags": []
   },
   "outputs": [],
   "source": [
    "#! \"\"\"When running on Kaggle, copies the input directory cifake_hyperband to the working directory for\n",
    "#! tuner continuity / cumulative session training (loading backups from the BackupAndRestore callback).\"\"\"\n",
    "# from distutils.dir_util import copy_tree\n",
    "# source_dir = \"/kaggle/input/cifake_hyperband/\"\n",
    "# destination_dir = \"/kaggle/working/\"\n",
    "# copy_tree(source_dir, destination_dir)"
   ]
  },
  {
   "cell_type": "code",
   "execution_count": null,
   "id": "f14db58e",
   "metadata": {
    "execution": {
     "iopub.execute_input": "2024-04-24T20:20:30.095734Z",
     "iopub.status.busy": "2024-04-24T20:20:30.095152Z",
     "iopub.status.idle": "2024-04-24T20:22:24.240197Z",
     "shell.execute_reply": "2024-04-24T20:22:24.239333Z"
    },
    "id": "f14db58e",
    "papermill": {
     "duration": 114.155913,
     "end_time": "2024-04-24T20:22:24.242686",
     "exception": false,
     "start_time": "2024-04-24T20:20:30.086773",
     "status": "completed"
    },
    "tags": []
   },
   "outputs": [],
   "source": [
    "ds_train = image_dataset_from_directory(\n",
    "    f'{input_dir}train',\n",
    "    labels='inferred',\n",
    "    label_mode='binary',\n",
    "    image_size=[32,32],\n",
    "    interpolation='nearest',\n",
    "    batch_size=32,\n",
    "    shuffle=True,\n",
    "#     seed=69,\n",
    "    #validation_split=None,\n",
    "    subset=None,\n",
    "    follow_links=False,\n",
    "    crop_to_aspect_ratio=False,\n",
    ")"
   ]
  },
  {
   "cell_type": "code",
   "execution_count": null,
   "id": "e08e7c99",
   "metadata": {
    "execution": {
     "iopub.execute_input": "2024-04-24T20:22:24.259424Z",
     "iopub.status.busy": "2024-04-24T20:22:24.259077Z",
     "iopub.status.idle": "2024-04-24T20:22:48.956715Z",
     "shell.execute_reply": "2024-04-24T20:22:48.955939Z"
    },
    "id": "e08e7c99",
    "papermill": {
     "duration": 24.708613,
     "end_time": "2024-04-24T20:22:48.959016",
     "exception": false,
     "start_time": "2024-04-24T20:22:24.250403",
     "status": "completed"
    },
    "tags": []
   },
   "outputs": [],
   "source": [
    "ds_test = image_dataset_from_directory(\n",
    "    f'{input_dir}test',\n",
    "    labels='inferred',\n",
    "    label_mode='binary',\n",
    "    image_size=[32,32],\n",
    "    interpolation='nearest',\n",
    "    batch_size=32,\n",
    "    shuffle=True,\n",
    "#     seed=69,\n",
    "    #validation_split=None,\n",
    "    subset=None,\n",
    "    follow_links=False,\n",
    "    crop_to_aspect_ratio=False,\n",
    ")"
   ]
  },
  {
   "cell_type": "code",
   "execution_count": null,
   "id": "8ddcb554",
   "metadata": {
    "execution": {
     "iopub.execute_input": "2024-04-24T20:22:48.976058Z",
     "iopub.status.busy": "2024-04-24T20:22:48.975750Z",
     "iopub.status.idle": "2024-04-24T20:22:48.980253Z",
     "shell.execute_reply": "2024-04-24T20:22:48.979393Z"
    },
    "id": "8ddcb554",
    "papermill": {
     "duration": 0.015143,
     "end_time": "2024-04-24T20:22:48.982242",
     "exception": false,
     "start_time": "2024-04-24T20:22:48.967099",
     "status": "completed"
    },
    "tags": []
   },
   "outputs": [],
   "source": [
    "def convert_to_float(image, label):\n",
    "    image = tf.image.convert_image_dtype(image, dtype=tf.float32)\n",
    "    return image, label\n",
    "\n",
    "AUTOTUNE = tf.data.experimental.AUTOTUNE\n"
   ]
  },
  {
   "cell_type": "code",
   "execution_count": null,
   "id": "5163c997",
   "metadata": {
    "execution": {
     "iopub.execute_input": "2024-04-24T20:22:48.998823Z",
     "iopub.status.busy": "2024-04-24T20:22:48.998189Z",
     "iopub.status.idle": "2024-04-24T20:22:49.053295Z",
     "shell.execute_reply": "2024-04-24T20:22:49.052510Z"
    },
    "id": "5163c997",
    "papermill": {
     "duration": 0.065499,
     "end_time": "2024-04-24T20:22:49.055156",
     "exception": false,
     "start_time": "2024-04-24T20:22:48.989657",
     "status": "completed"
    },
    "tags": []
   },
   "outputs": [],
   "source": [
    "ds_train = (\n",
    "    ds_train\n",
    "    .map(convert_to_float)\n",
    "    .cache()\n",
    "    .prefetch(buffer_size=AUTOTUNE)\n",
    ")\n"
   ]
  },
  {
   "cell_type": "code",
   "execution_count": null,
   "id": "fb62ba09",
   "metadata": {
    "execution": {
     "iopub.execute_input": "2024-04-24T20:22:49.071351Z",
     "iopub.status.busy": "2024-04-24T20:22:49.071082Z",
     "iopub.status.idle": "2024-04-24T20:22:49.086570Z",
     "shell.execute_reply": "2024-04-24T20:22:49.085857Z"
    },
    "id": "fb62ba09",
    "papermill": {
     "duration": 0.025965,
     "end_time": "2024-04-24T20:22:49.088608",
     "exception": false,
     "start_time": "2024-04-24T20:22:49.062643",
     "status": "completed"
    },
    "tags": []
   },
   "outputs": [],
   "source": [
    "ds_valid = (\n",
    "    ds_test\n",
    "    .map(convert_to_float)\n",
    "    .cache()\n",
    "    .prefetch(buffer_size=AUTOTUNE)\n",
    ")"
   ]
  },
  {
   "cell_type": "code",
   "execution_count": null,
   "id": "9a022c3a",
   "metadata": {
    "execution": {
     "iopub.execute_input": "2024-04-24T20:22:49.106025Z",
     "iopub.status.busy": "2024-04-24T20:22:49.105374Z",
     "iopub.status.idle": "2024-04-24T20:22:49.109547Z",
     "shell.execute_reply": "2024-04-24T20:22:49.108715Z"
    },
    "id": "9a022c3a",
    "papermill": {
     "duration": 0.015184,
     "end_time": "2024-04-24T20:22:49.111572",
     "exception": false,
     "start_time": "2024-04-24T20:22:49.096388",
     "status": "completed"
    },
    "tags": []
   },
   "outputs": [],
   "source": [
    "early_stopping = keras.callbacks.EarlyStopping(\n",
    "    monitor='val_loss',\n",
    "    patience=14,\n",
    "    min_delta=0.001,\n",
    "    restore_best_weights=True)"
   ]
  },
  {
   "cell_type": "code",
   "execution_count": null,
   "id": "f571baab",
   "metadata": {
    "execution": {
     "iopub.execute_input": "2024-04-24T20:22:49.127635Z",
     "iopub.status.busy": "2024-04-24T20:22:49.127164Z",
     "iopub.status.idle": "2024-04-24T20:22:49.131183Z",
     "shell.execute_reply": "2024-04-24T20:22:49.130348Z"
    },
    "id": "f571baab",
    "papermill": {
     "duration": 0.014346,
     "end_time": "2024-04-24T20:22:49.133277",
     "exception": false,
     "start_time": "2024-04-24T20:22:49.118931",
     "status": "completed"
    },
    "tags": []
   },
   "outputs": [],
   "source": [
    "from keras.callbacks import ReduceLROnPlateau\n",
    "\n",
    "reduce_lr = ReduceLROnPlateau(monitor='val_loss', factor=0.2, patience=7, min_lr=0.0008)"
   ]
  },
  {
   "cell_type": "code",
   "execution_count": null,
   "id": "3628b325",
   "metadata": {
    "execution": {
     "iopub.execute_input": "2024-04-24T20:22:49.149396Z",
     "iopub.status.busy": "2024-04-24T20:22:49.149090Z",
     "iopub.status.idle": "2024-04-24T20:22:49.153487Z",
     "shell.execute_reply": "2024-04-24T20:22:49.152577Z"
    },
    "id": "3628b325",
    "papermill": {
     "duration": 0.014698,
     "end_time": "2024-04-24T20:22:49.155362",
     "exception": false,
     "start_time": "2024-04-24T20:22:49.140664",
     "status": "completed"
    },
    "tags": []
   },
   "outputs": [],
   "source": [
    "from keras.callbacks import ModelCheckpoint\n",
    "timestamp = time.strftime(\"%Y%m%d-%H%M%S\")\n",
    "model_checkpoint = ModelCheckpoint(\n",
    "    f'{working_dir}/best/best_model_{timestamp}.keras', monitor='val_loss', save_best_only=True, mode='min'\n",
    ")"
   ]
  },
  {
   "cell_type": "code",
   "execution_count": null,
   "id": "b9dd7a0d",
   "metadata": {
    "execution": {
     "iopub.execute_input": "2024-04-24T20:22:49.171190Z",
     "iopub.status.busy": "2024-04-24T20:22:49.170920Z",
     "iopub.status.idle": "2024-04-24T20:22:49.175798Z",
     "shell.execute_reply": "2024-04-24T20:22:49.174909Z"
    },
    "id": "b9dd7a0d",
    "papermill": {
     "duration": 0.015139,
     "end_time": "2024-04-24T20:22:49.177872",
     "exception": false,
     "start_time": "2024-04-24T20:22:49.162733",
     "status": "completed"
    },
    "tags": []
   },
   "outputs": [],
   "source": [
    "from keras.callbacks import LearningRateScheduler\n",
    "def scheduler(epoch, lr):\n",
    "    if epoch < 26:\n",
    "        return lr\n",
    "    else:\n",
    "        return lr * 0.97 if lr > 0.001 else lr * 2\n",
    "\n",
    "schedule_lr = LearningRateScheduler(scheduler)"
   ]
  },
  {
   "cell_type": "code",
   "execution_count": null,
   "id": "84fd9b35",
   "metadata": {
    "execution": {
     "iopub.execute_input": "2024-04-24T20:22:49.194767Z",
     "iopub.status.busy": "2024-04-24T20:22:49.194483Z",
     "iopub.status.idle": "2024-04-24T20:22:49.199111Z",
     "shell.execute_reply": "2024-04-24T20:22:49.198192Z"
    },
    "id": "84fd9b35",
    "papermill": {
     "duration": 0.015416,
     "end_time": "2024-04-24T20:22:49.201089",
     "exception": false,
     "start_time": "2024-04-24T20:22:49.185673",
     "status": "completed"
    },
    "tags": []
   },
   "outputs": [],
   "source": [
    "backup_dir = f\"{working_dir}/backup/latest\"\n",
    "backup_callback = keras.callbacks.BackupAndRestore(\n",
    "    backup_dir, save_freq=\"epoch\", delete_checkpoint=True\n",
    ")"
   ]
  },
  {
   "cell_type": "code",
   "execution_count": null,
   "id": "0ea8f2d8",
   "metadata": {
    "execution": {
     "iopub.execute_input": "2024-04-24T20:22:49.218185Z",
     "iopub.status.busy": "2024-04-24T20:22:49.217909Z",
     "iopub.status.idle": "2024-04-24T20:22:49.402364Z",
     "shell.execute_reply": "2024-04-24T20:22:49.401472Z"
    },
    "id": "0ea8f2d8",
    "papermill": {
     "duration": 0.195618,
     "end_time": "2024-04-24T20:22:49.404706",
     "exception": false,
     "start_time": "2024-04-24T20:22:49.209088",
     "status": "completed"
    },
    "tags": []
   },
   "outputs": [],
   "source": [
    "def MBConv6(input_tensor, hp=None, out_channels=32, expansion=6, use_se=True, dropout_rate=0.0):\n",
    "    # inverted residual structure\n",
    "    # pointwise convolution 1 expansion\n",
    "    x = layers.Conv2D(expansion * input_tensor.shape[-1], (1,  1), padding='same', use_bias=False)(input_tensor)\n",
    "    x = layers.BatchNormalization()(x)\n",
    "    x = layers.Activation(swish)(x)\n",
    "\n",
    "    # Depthwise Separable Convolution\n",
    "    x = layers.DepthwiseConv2D(kernel_size=(3,  3), strides=(1,  1), padding='same', use_bias=False)(x)\n",
    "    x = layers.BatchNormalization()(x)\n",
    "    x = layers.Activation(swish)(x)\n",
    "\n",
    "    # pointwise convolution 2 bottleneck\n",
    "    x = layers.Conv2D(out_channels, (1,  1), padding='same', use_bias=False)(x)\n",
    "    x = layers.BatchNormalization()(x)\n",
    "\n",
    "    # Dropout\n",
    "    if dropout_rate >  0.0:\n",
    "        x = layers.Dropout(dropout_rate)(x)\n",
    "\n",
    "    # bottleneck\n",
    "    x = layers.Conv2D(out_channels, (1,  1), padding='same', use_bias=False)(x)\n",
    "    x = layers.BatchNormalization()(x)\n",
    "\n",
    "    # Squeeze-and-Excitation\n",
    "    if use_se:\n",
    "        se_shape = (1,  1, out_channels)\n",
    "        se = layers.GlobalAveragePooling2D()(x)\n",
    "        se = layers.Reshape(se_shape)(se)\n",
    "        se = layers.Conv2D(out_channels //  4, (1,  1), padding='same', use_bias=True)(se)\n",
    "        se = layers.Activation(swish)(se)\n",
    "        se = layers.Conv2D(out_channels, (1,  1), padding='same', use_bias=True)(se)\n",
    "        se = layers.Activation('sigmoid')(se)\n",
    "        x = layers.Multiply()([x, se])\n",
    "\n",
    "    # Residual\n",
    "    if input_tensor.shape[-1] == out_channels:\n",
    "        shortcut = input_tensor\n",
    "    else:\n",
    "        shortcut = layers.Conv2D(out_channels, (1,  1), strides=(1,  1), padding='same', use_bias=False)(input_tensor)\n",
    "        shortcut = layers.BatchNormalization()(shortcut)\n",
    "\n",
    "    x = layers.Add()([x, shortcut])\n",
    "\n",
    "    return x\n",
    "input_tensor = layers.Input(shape=(32,  32,  16))\n",
    "output_tensor = MBConv6(input_tensor)\n",
    "model = keras.models.Model(inputs=input_tensor, outputs=output_tensor)\n",
    "\n",
    "model.summary()"
   ]
  },
  {
   "cell_type": "code",
   "execution_count": null,
   "id": "0870858c",
   "metadata": {
    "execution": {
     "iopub.execute_input": "2024-04-24T20:22:49.423986Z",
     "iopub.status.busy": "2024-04-24T20:22:49.423653Z",
     "iopub.status.idle": "2024-04-24T20:22:49.550103Z",
     "shell.execute_reply": "2024-04-24T20:22:49.549316Z"
    },
    "id": "0870858c",
    "papermill": {
     "duration": 0.138806,
     "end_time": "2024-04-24T20:22:49.552301",
     "exception": false,
     "start_time": "2024-04-24T20:22:49.413495",
     "status": "completed"
    },
    "tags": []
   },
   "outputs": [],
   "source": [
    "\n",
    "def MBConv1(input_tensor, hp=None, expansion=4, out_channels=16, strides=(1,   1), use_se=True):\n",
    "\n",
    "    x = layers.Conv2D(expansion, (1,   1), padding='same', use_bias=False)(input_tensor)\n",
    "    x = layers.BatchNormalization()(x)\n",
    "    x = layers.Activation(swish)(x)\n",
    "\n",
    "\n",
    "    x = layers.DepthwiseConv2D(kernel_size=(3,   3), strides=strides, padding='same', use_bias=False)(x)\n",
    "    x = layers.BatchNormalization()(x)\n",
    "    x = layers.Activation(swish)(x)\n",
    "\n",
    "\n",
    "    x = layers.Conv2D(out_channels, (1,   1), padding='same', use_bias=False)(x)\n",
    "    x = layers.BatchNormalization()(x)\n",
    "\n",
    "    # Squeeze-and-Excitation\n",
    "    if use_se:\n",
    "        se_shape = (1,  1, out_channels)\n",
    "        se = layers.GlobalAveragePooling2D()(x)\n",
    "        se = layers.Reshape((1,  1, out_channels))(se)\n",
    "        se = layers.Conv2D(out_channels //  2, (1,  1), padding='same', use_bias=True)(se)\n",
    "        se = layers.Activation(swish)(se)\n",
    "        se = layers.Conv2D(out_channels, (1,  1), padding='same', use_bias=True)(se)\n",
    "        se = layers.Activation('sigmoid')(se)\n",
    "        se = layers.Reshape(se_shape[1:])(se)  # Reshape to original\n",
    "        x = layers.Multiply()([x, se])\n",
    "\n",
    "    # Residual\n",
    "    if input_tensor.shape[-1] == out_channels and strides == (1,   1):\n",
    "        x = layers.Add()([x, input_tensor])\n",
    "    else:\n",
    "        input_tensor = layers.Conv2D(out_channels, (1,   1), strides=strides, padding='same', use_bias=False)(input_tensor)\n",
    "        x = layers.Add()([x, input_tensor])\n",
    "\n",
    "    return x\n",
    "\n",
    "input_tensor = layers.Input(shape=(32,  32,  3))\n",
    "output_tensor = MBConv1(input_tensor)\n",
    "model = keras.models.Model(inputs=input_tensor, outputs=output_tensor)\n",
    "\n",
    "model.summary()"
   ]
  },
  {
   "cell_type": "code",
   "execution_count": null,
   "id": "fea228ee",
   "metadata": {
    "execution": {
     "iopub.execute_input": "2024-04-24T20:22:49.573207Z",
     "iopub.status.busy": "2024-04-24T20:22:49.572874Z",
     "iopub.status.idle": "2024-04-24T20:22:50.832915Z",
     "shell.execute_reply": "2024-04-24T20:22:50.832060Z"
    },
    "id": "fea228ee",
    "papermill": {
     "duration": 1.273305,
     "end_time": "2024-04-24T20:22:50.835240",
     "exception": false,
     "start_time": "2024-04-24T20:22:49.561935",
     "status": "completed"
    },
    "tags": []
   },
   "outputs": [],
   "source": [
    "!pip install keras-tuner\n",
    "import keras_tuner\n",
    "from keras_tuner import RandomSearch, Hyperband\n",
    "from keras.models import Model\n",
    "from keras.metrics import Accuracy, Precision, Recall, F1Score\n",
    "\n",
    "def build_model(hp=None):\n",
    "    activation_function = 'swish'  #gelu, silu, leaky_relu etc were worse\n",
    "    input_tensor = layers.Input(shape=[32,  32,  3])\n",
    "    x = layers.Reshape(target_shape=(32, 32, 3))(input_tensor)\n",
    "\n",
    "    if hp.Boolean('PREPROCESSING_horizontal'):\n",
    "        x = layers.RandomFlip(mode='horizontal')(x)\n",
    "    if hp.Boolean('PRECONV_norm'):\n",
    "        x = layers.BatchNormalization()(x)\n",
    "    x = MBConv6(input_tensor, hp=hp, out_channels=hp.Int('out_channels_2', min_value=20, max_value=44, step=12),\n",
    "                expansion=hp.Int('expansion_2', min_value=4, max_value=8, step=2),\n",
    "                use_se=hp.Boolean('use_se_2'),\n",
    "                dropout_rate=hp.Float('conv6_dropout_rate_2', min_value=0.0, max_value=0.2, step=0.1))\n",
    "\n",
    "    x = layers.Conv2D(filters=hp.Int('conv_filter', min_value=32, max_value=96, step=64),\n",
    "                      kernel_size=hp.Choice('conv_kernel', values=[3,  7]),\n",
    "                      activation=activation_function, padding='same',\n",
    "                      kernel_regularizer=keras.regularizers.l2(0.003) if hp.Boolean('l2_reg') else None)(x)\n",
    "    x = layers.BatchNormalization()(x)\n",
    "    x = layers.MaxPool2D()(x)\n",
    "    x = layers.Conv2D(filters=hp.Int('conv_filter', min_value=32, max_value=96, step=64),\n",
    "                      kernel_size=hp.Choice('conv_kernel', values=[3,  7]),\n",
    "                      activation=activation_function, padding='same',\n",
    "                      kernel_regularizer=keras.regularizers.l2(0.003) if hp.Boolean('l2_reg') else None)(x)\n",
    "    if hp.Boolean('use_maxpool'):\n",
    "        x = layers.MaxPool2D()(x)\n",
    "    x = layers.MaxPool2D()(x)\n",
    "    x = layers.BatchNormalization()(x)\n",
    "    x = layers.Flatten()(x)\n",
    "\n",
    "\n",
    "    for i in range(hp.Int('num_dense_layers', min_value=4, max_value=12, step=2)):\n",
    "        x = layers.Dense(hp.Int(f'dense_units', min_value=256, max_value=512, step=256),\n",
    "                         activation=activation_function,\n",
    "                         kernel_regularizer=keras.regularizers.l2(0.003) if hp.Boolean('l2_reg') else None)(x)\n",
    "        x = layers.Dropout(hp.Float(f'dropout_{i}_rate', min_value=0.0, max_value=0.6, step=0.1))(x)\n",
    "\n",
    "    x = layers.Dense(1, activation='sigmoid')(x)\n",
    "    optimizer_choice = hp.Choice('optimizer', values=['Adam', 'Adamax'])#'Adagrad', 'Adadelta'\n",
    "\n",
    "    if optimizer_choice == 'Adamax':\n",
    "        optimizer = tf.keras.optimizers.Adamax(learning_rate=hp.Float('adamax_learning_rate', min_value=0.002, max_value=0.01, sampling='LOG'))\n",
    "    elif optimizer_choice == 'Adam':\n",
    "        optimizer = tf.keras.optimizers.Adam(learning_rate=hp.Float('adam_learning_rate', min_value=0.0035, max_value=0.01, sampling='LOG'))\n",
    "\n",
    "\n",
    "    model = Model(inputs=input_tensor, outputs=x)\n",
    "    model.compile(optimizer=optimizer_choice,\n",
    "                  loss='binary_crossentropy',\n",
    "                  metrics=['binary_accuracy',\n",
    "                      Precision(name='precision'),\n",
    "                      Recall(name='recall'),\n",
    "                      F1Score(name='f1_score')])\n",
    "    return model\n"
   ]
  },
  {
   "cell_type": "code",
   "execution_count": null,
   "id": "df8c2c0a",
   "metadata": {
    "execution": {
     "iopub.execute_input": "2024-04-24T20:22:50.860064Z",
     "iopub.status.busy": "2024-04-24T20:22:50.859093Z",
     "iopub.status.idle": "2024-04-24T20:22:51.054268Z",
     "shell.execute_reply": "2024-04-24T20:22:51.052951Z"
    },
    "id": "df8c2c0a",
    "papermill": {
     "duration": 0.211797,
     "end_time": "2024-04-24T20:22:51.057340",
     "exception": false,
     "start_time": "2024-04-24T20:22:50.845543",
     "status": "completed"
    },
    "tags": []
   },
   "outputs": [],
   "source": [
    "tuner = Hyperband(\n",
    "    build_model,\n",
    "    objective='val_binary_accuracy',\n",
    "    max_epochs=2,\n",
    "    factor=3,\n",
    "    directory=f'{working_dir}/projects',\n",
    "    project_name='cifake_hyperband')"
   ]
  },
  {
   "cell_type": "code",
   "execution_count": null,
   "id": "6adc86de",
   "metadata": {
    "execution": {
     "iopub.execute_input": "2024-04-24T20:22:51.084311Z",
     "iopub.status.busy": "2024-04-24T20:22:51.083745Z",
     "iopub.status.idle": "2024-04-24T23:10:13.086244Z",
     "shell.execute_reply": "2024-04-24T23:10:13.085382Z"
    },
    "id": "6adc86de",
    "papermill": {
     "duration": 10042.018434,
     "end_time": "2024-04-24T23:10:13.088586",
     "exception": false,
     "start_time": "2024-04-24T20:22:51.070152",
     "status": "completed"
    },
    "tags": []
   },
   "outputs": [],
   "source": [
    "tuner.search(ds_train, epochs=2, validation_data=ds_valid, callbacks=[early_stopping,  reduce_lr, schedule_lr, backup_callback]) #,tensorboard, verbose=0 model_checkpoint\n",
    "\n",
    "best_model = tuner.get_best_models(num_models=1)[0]"
   ]
  },
  {
   "cell_type": "code",
   "execution_count": null,
   "id": "d0b2a126",
   "metadata": {
    "execution": {
     "iopub.execute_input": "2024-04-24T23:10:13.112900Z",
     "iopub.status.busy": "2024-04-24T23:10:13.112134Z",
     "iopub.status.idle": "2024-04-24T23:10:13.202203Z",
     "shell.execute_reply": "2024-04-24T23:10:13.201264Z"
    },
    "id": "d0b2a126",
    "papermill": {
     "duration": 0.104969,
     "end_time": "2024-04-24T23:10:13.205361",
     "exception": false,
     "start_time": "2024-04-24T23:10:13.100392",
     "status": "completed"
    },
    "tags": []
   },
   "outputs": [],
   "source": [
    "best_model.summary()"
   ]
  },
  {
   "cell_type": "code",
   "execution_count": null,
   "id": "59524255",
   "metadata": {
    "execution": {
     "iopub.execute_input": "2024-04-24T23:10:13.230707Z",
     "iopub.status.busy": "2024-04-24T23:10:13.230152Z",
     "iopub.status.idle": "2024-04-24T23:10:13.239075Z",
     "shell.execute_reply": "2024-04-24T23:10:13.238131Z"
    },
    "id": "59524255",
    "papermill": {
     "duration": 0.025315,
     "end_time": "2024-04-24T23:10:13.242651",
     "exception": false,
     "start_time": "2024-04-24T23:10:13.217336",
     "status": "completed"
    },
    "tags": []
   },
   "outputs": [],
   "source": [
    "tuner.results_summary()"
   ]
  },
  {
   "cell_type": "code",
   "execution_count": null,
   "id": "66be1575",
   "metadata": {
    "execution": {
     "iopub.execute_input": "2024-04-24T23:10:13.270440Z",
     "iopub.status.busy": "2024-04-24T23:10:13.270093Z",
     "iopub.status.idle": "2024-04-24T23:10:13.408050Z",
     "shell.execute_reply": "2024-04-24T23:10:13.407246Z"
    },
    "id": "66be1575",
    "papermill": {
     "duration": 0.155334,
     "end_time": "2024-04-24T23:10:13.410408",
     "exception": false,
     "start_time": "2024-04-24T23:10:13.255074",
     "status": "completed"
    },
    "tags": []
   },
   "outputs": [],
   "source": [
    "best_model.save(f\"{working_dir}/BEST{NAME}.keras\")"
   ]
  },
  {
   "cell_type": "code",
   "execution_count": null,
   "id": "151ba76b",
   "metadata": {
    "id": "151ba76b",
    "papermill": {
     "duration": 0.012149,
     "end_time": "2024-04-24T23:10:13.435346",
     "exception": false,
     "start_time": "2024-04-24T23:10:13.423197",
     "status": "completed"
    },
    "tags": []
   },
   "outputs": [],
   "source": [
    "\n",
    "best_hyperparameters = tuner.get_best_hyperparameters(num_trials=1)[0]\n",
    "\n",
    "# Output the best model's metrics\n",
    "best_metrics = best_model.evaluate(ds_valid)\n",
    "print(\"Validation Loss:\", best_metrics[0])\n",
    "print(\"Validation Binary Accuracy:\", best_metrics[1])\n",
    "print(\"Validation Precision:\", best_metrics[2])\n",
    "print(\"Validation Recall:\", best_metrics[3])\n",
    "print(\"Validation F1 Score:\", best_metrics[4])"
   ]
  },
  {
   "cell_type": "code",
   "execution_count": null,
   "id": "wVsMJAUwvRUz",
   "metadata": {
    "id": "wVsMJAUwvRUz"
   },
   "outputs": [],
   "source": [
    "drive.flush_and_unmount()\n",
    "print('All changes made in this colab session should now be visible in Drive.')"
   ]
  }
 ],
 "metadata": {
  "colab": {
   "provenance": []
  },
  "kaggle": {
   "accelerator": "nvidiaTeslaT4",
   "dataSources": [
    {
     "datasetId": 3041726,
     "sourceId": 5256696,
     "sourceType": "datasetVersion"
    },
    {
     "datasetId": 4500471,
     "sourceId": 7708047,
     "sourceType": "datasetVersion"
    },
    {
     "datasetId": 4528120,
     "sourceId": 7746027,
     "sourceType": "datasetVersion"
    }
   ],
   "dockerImageVersionId": 30698,
   "isGpuEnabled": true,
   "isInternetEnabled": true,
   "language": "python",
   "sourceType": "notebook"
  },
  "kernelspec": {
   "display_name": "Python 3 (ipykernel)",
   "language": "python",
   "name": "python3"
  },
  "language_info": {
   "codemirror_mode": {
    "name": "ipython",
    "version": 3
   },
   "file_extension": ".py",
   "mimetype": "text/x-python",
   "name": "python",
   "nbconvert_exporter": "python",
   "pygments_lexer": "ipython3",
   "version": "3.11.0"
  },
  "papermill": {
   "default_parameters": {},
   "duration": 10203.798551,
   "end_time": "2024-04-24T23:10:17.453551",
   "environment_variables": {},
   "exception": null,
   "input_path": "__notebook__.ipynb",
   "output_path": "__notebook__.ipynb",
   "parameters": {},
   "start_time": "2024-04-24T20:20:13.655000",
   "version": "2.5.0"
  }
 },
 "nbformat": 4,
 "nbformat_minor": 5
}
