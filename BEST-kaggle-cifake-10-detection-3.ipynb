{
 "cells": [
  {
   "cell_type": "code",
   "execution_count": 23,
   "metadata": {
    "execution": {
     "iopub.execute_input": "2024-03-18T09:36:25.487579Z",
     "iopub.status.busy": "2024-03-18T09:36:25.487136Z",
     "iopub.status.idle": "2024-03-18T09:36:25.493518Z",
     "shell.execute_reply": "2024-03-18T09:36:25.492325Z",
     "shell.execute_reply.started": "2024-03-18T09:36:25.487548Z"
    },
    "papermill": {
     "duration": 20.73616,
     "end_time": "2024-03-03T12:39:02.197848",
     "exception": false,
     "start_time": "2024-03-03T12:38:41.461688",
     "status": "completed"
    },
    "tags": []
   },
   "outputs": [],
   "source": [
    "import pandas as pd\n",
    "import numpy as np\n",
    "import os\n",
    "import tensorflow as tf\n",
    "from tensorflow.keras.utils import image_dataset_from_directory\n",
    "from tensorflow import keras\n",
    "from tensorflow.keras import layers\n",
    "from tensorflow.keras.activations import swish\n",
    "from tensorflow.keras.callbacks import TensorBoard\n",
    "import time\n",
    "import matplotlib.pyplot as plt\n",
    "from matplotlib import gridspec"
   ]
  },
  {
   "cell_type": "code",
   "execution_count": 24,
   "metadata": {
    "execution": {
     "iopub.execute_input": "2024-03-18T09:36:25.495733Z",
     "iopub.status.busy": "2024-03-18T09:36:25.495223Z",
     "iopub.status.idle": "2024-03-18T09:36:25.508792Z",
     "shell.execute_reply": "2024-03-18T09:36:25.507916Z",
     "shell.execute_reply.started": "2024-03-18T09:36:25.495707Z"
    },
    "papermill": {
     "duration": 0.014251,
     "end_time": "2024-03-03T12:39:02.218902",
     "exception": false,
     "start_time": "2024-03-03T12:39:02.204651",
     "status": "completed"
    },
    "tags": []
   },
   "outputs": [],
   "source": [
    "NAME = \"cifakeCNN{}\".format(time.strftime(\"%Y%m%d-%H%M%S\"))\n",
    "\n",
    "tensorboard = TensorBoard(log_dir=\"logs/{}\".format(NAME))"
   ]
  },
  {
   "cell_type": "code",
   "execution_count": 25,
   "metadata": {
    "execution": {
     "iopub.execute_input": "2024-03-18T09:36:25.510052Z",
     "iopub.status.busy": "2024-03-18T09:36:25.509789Z",
     "iopub.status.idle": "2024-03-18T09:36:25.518970Z",
     "shell.execute_reply": "2024-03-18T09:36:25.518177Z",
     "shell.execute_reply.started": "2024-03-18T09:36:25.510029Z"
    },
    "papermill": {
     "duration": 0.499352,
     "end_time": "2024-03-03T12:39:02.724707",
     "exception": false,
     "start_time": "2024-03-03T12:39:02.225355",
     "status": "completed"
    },
    "tags": []
   },
   "outputs": [
    {
     "name": "stdout",
     "output_type": "stream",
     "text": [
      "Num GPUs Available:  2\n"
     ]
    }
   ],
   "source": [
    "print(\"Num GPUs Available: \", len(tf.config.list_physical_devices('GPU')))"
   ]
  },
  {
   "cell_type": "code",
   "execution_count": 26,
   "metadata": {
    "execution": {
     "iopub.execute_input": "2024-03-18T09:36:25.522421Z",
     "iopub.status.busy": "2024-03-18T09:36:25.521792Z",
     "iopub.status.idle": "2024-03-18T09:36:25.528227Z",
     "shell.execute_reply": "2024-03-18T09:36:25.527401Z",
     "shell.execute_reply.started": "2024-03-18T09:36:25.522386Z"
    },
    "papermill": {
     "duration": 0.013716,
     "end_time": "2024-03-03T12:39:02.745234",
     "exception": false,
     "start_time": "2024-03-03T12:39:02.731518",
     "status": "completed"
    },
    "tags": []
   },
   "outputs": [],
   "source": [
    "# gpus = tf.config.list_physical_devices('GPU')\n",
    "# if gpus:\n",
    "#   # Restrict TensorFlow to only allocate 1GB of memory on the first GPU\n",
    "#   try:\n",
    "#     tf.config.set_logical_device_configuration(\n",
    "#         gpus[0],\n",
    "#         [tf.config.LogicalDeviceConfiguration(memory_limit=1024)])\n",
    "#     logical_gpus = tf.config.list_logical_devices('GPU')\n",
    "#     print(len(gpus), \"Physical GPUs,\", len(logical_gpus), \"Logical GPUs\")\n",
    "#   except RuntimeError as e:\n",
    "#     # Virtual devices must be set before GPUs have been initialized\n",
    "#     print(e)"
   ]
  },
  {
   "cell_type": "code",
   "execution_count": 27,
   "metadata": {
    "execution": {
     "iopub.execute_input": "2024-03-18T09:36:25.529392Z",
     "iopub.status.busy": "2024-03-18T09:36:25.529164Z",
     "iopub.status.idle": "2024-03-18T09:36:25.537518Z",
     "shell.execute_reply": "2024-03-18T09:36:25.536613Z",
     "shell.execute_reply.started": "2024-03-18T09:36:25.529372Z"
    },
    "papermill": {
     "duration": 0.013197,
     "end_time": "2024-03-03T12:39:02.765127",
     "exception": false,
     "start_time": "2024-03-03T12:39:02.751930",
     "status": "completed"
    },
    "tags": []
   },
   "outputs": [],
   "source": [
    "# tf.config.threading.set_intra_op_parallelism_threads(1)\n",
    "# tf.config.threading.set_inter_op_parallelism_threads(1)"
   ]
  },
  {
   "cell_type": "code",
   "execution_count": null,
   "metadata": {
    "execution": {
     "iopub.execute_input": "2024-03-18T09:36:25.539700Z",
     "iopub.status.busy": "2024-03-18T09:36:25.538677Z"
    },
    "papermill": {
     "duration": 188.865901,
     "end_time": "2024-03-03T12:42:11.637549",
     "exception": false,
     "start_time": "2024-03-03T12:39:02.771648",
     "status": "completed"
    },
    "tags": []
   },
   "outputs": [],
   "source": [
    "ds_train = image_dataset_from_directory(\n",
    "    '/kaggle/input/cifake-real-and-ai-generated-synthetic-images',\n",
    "    labels='inferred',\n",
    "    label_mode='binary',\n",
    "    image_size=[32,32],\n",
    "    interpolation='nearest',\n",
    "    batch_size=32,\n",
    "    shuffle=True,\n",
    "    seed=69,\n",
    "    #validation_split=None,\n",
    "    subset=None,\n",
    "    follow_links=False,\n",
    "    crop_to_aspect_ratio=False,\n",
    ")"
   ]
  },
  {
   "cell_type": "code",
   "execution_count": null,
   "metadata": {
    "papermill": {
     "duration": 33.394932,
     "end_time": "2024-03-03T12:42:45.039221",
     "exception": false,
     "start_time": "2024-03-03T12:42:11.644289",
     "status": "completed"
    },
    "tags": []
   },
   "outputs": [],
   "source": [
    "ds_test = image_dataset_from_directory(\n",
    "    '/kaggle/input/cifake-real-and-ai-generated-synthetic-images',\n",
    "    labels='inferred',\n",
    "    label_mode='binary',\n",
    "    image_size=[32,32],\n",
    "    interpolation='nearest',\n",
    "    batch_size=32,\n",
    "    shuffle=True,\n",
    "    seed=69,\n",
    "    #validation_split=None,\n",
    "    subset=None,\n",
    "    follow_links=False,\n",
    "    crop_to_aspect_ratio=False,\n",
    ")"
   ]
  },
  {
   "cell_type": "code",
   "execution_count": null,
   "metadata": {
    "papermill": {
     "duration": 0.014002,
     "end_time": "2024-03-03T12:42:45.060066",
     "exception": false,
     "start_time": "2024-03-03T12:42:45.046064",
     "status": "completed"
    },
    "tags": []
   },
   "outputs": [],
   "source": [
    "def convert_to_float(image, label):\n",
    "    image = tf.image.convert_image_dtype(image, dtype=tf.float32)\n",
    "    return image, label\n",
    "\n",
    "AUTOTUNE = tf.data.experimental.AUTOTUNE\n"
   ]
  },
  {
   "cell_type": "code",
   "execution_count": null,
   "metadata": {
    "papermill": {
     "duration": 0.065026,
     "end_time": "2024-03-03T12:42:45.131621",
     "exception": false,
     "start_time": "2024-03-03T12:42:45.066595",
     "status": "completed"
    },
    "tags": []
   },
   "outputs": [],
   "source": [
    "ds_train = (\n",
    "    ds_train\n",
    "    .map(convert_to_float)\n",
    "    .cache()\n",
    "    .prefetch(buffer_size=AUTOTUNE)\n",
    ")\n"
   ]
  },
  {
   "cell_type": "code",
   "execution_count": null,
   "metadata": {
    "papermill": {
     "duration": 0.024453,
     "end_time": "2024-03-03T12:42:45.162892",
     "exception": false,
     "start_time": "2024-03-03T12:42:45.138439",
     "status": "completed"
    },
    "tags": []
   },
   "outputs": [],
   "source": [
    "ds_valid = (\n",
    "    ds_test\n",
    "    .map(convert_to_float)\n",
    "    .cache()\n",
    "    .prefetch(buffer_size=AUTOTUNE)\n",
    ")"
   ]
  },
  {
   "cell_type": "code",
   "execution_count": null,
   "metadata": {
    "papermill": {
     "duration": 0.013335,
     "end_time": "2024-03-03T12:42:45.182837",
     "exception": false,
     "start_time": "2024-03-03T12:42:45.169502",
     "status": "completed"
    },
    "tags": []
   },
   "outputs": [],
   "source": [
    "early_stopping = keras.callbacks.EarlyStopping(\n",
    "    monitor='val_loss',\n",
    "    patience=10,\n",
    "    min_delta=0.001,\n",
    "    restore_best_weights=True)"
   ]
  },
  {
   "cell_type": "code",
   "execution_count": null,
   "metadata": {
    "papermill": {
     "duration": 0.01307,
     "end_time": "2024-03-03T12:42:45.202408",
     "exception": false,
     "start_time": "2024-03-03T12:42:45.189338",
     "status": "completed"
    },
    "tags": []
   },
   "outputs": [],
   "source": [
    "from tensorflow.keras.callbacks import ReduceLROnPlateau\n",
    "\n",
    "reduce_lr = ReduceLROnPlateau(monitor='val_loss', factor=0.2, patience=7, min_lr=0.0008)"
   ]
  },
  {
   "cell_type": "code",
   "execution_count": null,
   "metadata": {
    "papermill": {
     "duration": 0.013674,
     "end_time": "2024-03-03T12:42:45.222593",
     "exception": false,
     "start_time": "2024-03-03T12:42:45.208919",
     "status": "completed"
    },
    "tags": []
   },
   "outputs": [],
   "source": [
    "from tensorflow.keras.callbacks import ModelCheckpoint\n",
    "timestamp = time.strftime(\"%Y%m%d-%H%M%S\")\n",
    "model_checkpoint = ModelCheckpoint(\n",
    "    f'/kaggle/working/best/best_model_{timestamp}.keras', monitor='val_loss', save_best_only=True, mode='min'\n",
    ")"
   ]
  },
  {
   "cell_type": "code",
   "execution_count": null,
   "metadata": {
    "papermill": {
     "duration": 0.219383,
     "end_time": "2024-03-03T12:42:45.448432",
     "exception": false,
     "start_time": "2024-03-03T12:42:45.229049",
     "status": "completed"
    },
    "tags": []
   },
   "outputs": [],
   "source": [
    "def MBConv6(input_tensor, hp=None, out_channels=32, expansion=6, use_se=True, dropout_rate=0.0):\n",
    "    # Inverted Residual Structure\n",
    "    # Pointwise Convolution  1 with Expansion Factor  6\n",
    "    x = layers.Conv2D(expansion * input_tensor.shape[-1], (1,  1), padding='same', use_bias=False)(input_tensor)\n",
    "    x = layers.BatchNormalization()(x)\n",
    "    x = layers.Activation(swish)(x)\n",
    "\n",
    "    # Depthwise Separable Convolution with stride (1,  1)\n",
    "    x = layers.DepthwiseConv2D(kernel_size=(3,  3), strides=(1,  1), padding='same', use_bias=False)(x)\n",
    "    x = layers.BatchNormalization()(x)\n",
    "    x = layers.Activation(swish)(x)\n",
    "\n",
    "    # Pointwise Convolution  2\n",
    "    x = layers.Conv2D(out_channels, (1,  1), padding='same', use_bias=False)(x)\n",
    "    x = layers.BatchNormalization()(x)\n",
    "\n",
    "    # Dropout\n",
    "    if dropout_rate >  0.0:\n",
    "        x = layers.Dropout(dropout_rate)(x)\n",
    "\n",
    "    # Bottleneck Convolution  \n",
    "    x = layers.Conv2D(out_channels, (1,  1), padding='same', use_bias=False)(x)\n",
    "    x = layers.BatchNormalization()(x)\n",
    "\n",
    "    # Squeeze-and-Excitation\n",
    "    if use_se:\n",
    "        se_shape = (1,  1, out_channels)\n",
    "        se = layers.GlobalAveragePooling2D()(x)\n",
    "        se = layers.Reshape(se_shape)(se)\n",
    "        se = layers.Conv2D(out_channels, (1,  1), padding='same', use_bias=True)(se)\n",
    "        se = layers.Activation(swish)(se)\n",
    "        se = layers.Conv2D(out_channels, (1,  1), padding='same', use_bias=True)(se)\n",
    "        se = layers.Activation('sigmoid')(se)\n",
    "        x = layers.Multiply()([x, se])\n",
    "\n",
    "    # Residual\n",
    "    if input_tensor.shape[-1] == out_channels:\n",
    "        shortcut = input_tensor\n",
    "    else:\n",
    "        shortcut = layers.Conv2D(out_channels, (1,  1), strides=(1,  1), padding='same', use_bias=False)(input_tensor)\n",
    "        shortcut = layers.BatchNormalization()(shortcut)\n",
    "\n",
    "    x = layers.Add()([x, shortcut])\n",
    "\n",
    "    return x\n",
    "input_tensor = layers.Input(shape=(32,  32,  16)) \n",
    "output_tensor = MBConv6(input_tensor)\n",
    "model = keras.models.Model(inputs=input_tensor, outputs=output_tensor)\n",
    "\n",
    "model.summary()"
   ]
  },
  {
   "cell_type": "code",
   "execution_count": null,
   "metadata": {
    "papermill": {
     "duration": 0.130263,
     "end_time": "2024-03-03T12:42:45.586450",
     "exception": false,
     "start_time": "2024-03-03T12:42:45.456187",
     "status": "completed"
    },
    "tags": []
   },
   "outputs": [],
   "source": [
    "\n",
    "def MBConv1(input_tensor, hp=None, expansion=4, out_channels=16, strides=(1,   1), use_se=True):\n",
    "    # Expansion\n",
    "    x = layers.Conv2D(expansion * input_tensor.shape[-1], (1,   1), padding='same', use_bias=False)(input_tensor)\n",
    "    x = layers.BatchNormalization()(x)\n",
    "    x = layers.Activation(swish)(x)\n",
    "\n",
    "    # Depthwise \n",
    "    x = layers.DepthwiseConv2D(kernel_size=(3,   3), strides=strides, padding='same', use_bias=False)(x)\n",
    "    x = layers.BatchNormalization()(x)\n",
    "    x = layers.Activation(swish)(x) \n",
    "\n",
    "    # Pointwise \n",
    "    x = layers.Conv2D(out_channels, (1,   1), padding='same', use_bias=False)(x)\n",
    "    x = layers.BatchNormalization()(x)\n",
    "\n",
    "    # Squeeze-and-Excitation\n",
    "    if use_se:\n",
    "        se_shape = (1,  1, out_channels)\n",
    "        se = layers.GlobalAveragePooling2D()(x)\n",
    "        se = layers.Reshape((1,  1, out_channels))(se) \n",
    "        se = layers.Conv2D(out_channels, (1,  1), padding='same', use_bias=True)(se) \n",
    "        se = layers.Activation(swish)(se)   \n",
    "        se = layers.Conv2D(out_channels, (1,  1), padding='same', use_bias=True)(se) \n",
    "        se = layers.Activation('sigmoid')(se)\n",
    "        se = layers.Reshape(se_shape[1:])(se)  # Reshape to original\n",
    "        x = layers.Multiply()([x, se])\n",
    "\n",
    "    # Residual\n",
    "    if input_tensor.shape[-1] == out_channels and strides == (1,   1):\n",
    "        x = layers.Add()([x, input_tensor])\n",
    "    else:\n",
    "        input_tensor = layers.Conv2D(out_channels, (1,   1), strides=strides, padding='same', use_bias=False)(input_tensor)\n",
    "        x = layers.Add()([x, input_tensor])\n",
    "\n",
    "    return x\n",
    "\n",
    "input_tensor = layers.Input(shape=(32,  32,  3)) \n",
    "output_tensor = MBConv1(input_tensor)\n",
    "model = keras.models.Model(inputs=input_tensor, outputs=output_tensor)\n",
    "\n",
    "model.summary()"
   ]
  },
  {
   "cell_type": "code",
   "execution_count": null,
   "metadata": {
    "papermill": {
     "duration": 2.132232,
     "end_time": "2024-03-03T12:42:47.727433",
     "exception": false,
     "start_time": "2024-03-03T12:42:45.595201",
     "status": "completed"
    },
    "tags": []
   },
   "outputs": [],
   "source": [
    "import keras_tuner\n",
    "from keras_tuner import RandomSearch, Hyperband\n",
    "from tensorflow.keras.models import Model\n",
    "\n",
    "def build_model(hp=None):\n",
    "    activation_function = 'leaky_relu' if hp.Boolean(f'use_leaky_relu') else 'relu'\n",
    "    input_tensor = layers.Input(shape=[32,  32,  3])\n",
    "    if hp.Boolean('use_pre_horizontal'):\n",
    "        x = layers.RandomFlip(mode='horizontal')(input_tensor)\n",
    "    # x = layers.RandomRotation(factor=0.1488228133769420)(input_tensor)\n",
    "    # x = layers.RandomTranslation(height_factor=0.069, width_factor=0.069)(x)\n",
    "    # \n",
    "    # x = layers.BatchNormalization()(x)\n",
    "    \n",
    "\n",
    "    # x = MBConv1(x, hp=hp)\n",
    "    \n",
    "    if hp.Boolean('use_pre_horizontal'):\n",
    "        x = MBConv6(x, hp=hp, out_channels=hp.Int('out_channels_1', min_value=20, max_value=44, step=12),\n",
    "                expansion=hp.Int('expansion_1', min_value=4, max_value=8, step=2),\n",
    "                use_se=hp.Boolean('use_se_1'),\n",
    "                dropout_rate=hp.Float('conv6_dropout_rate_1', min_value=0.0, max_value=0.2, step=0.1))\n",
    "    if not hp.Boolean('use_pre_horizontal'):\n",
    "        x = MBConv6(input_tensor, hp=hp, out_channels=hp.Int('out_channels_1', min_value=20, max_value=44, step=12),\n",
    "                expansion=hp.Int('expansion_1', min_value=4, max_value=8, step=2),\n",
    "                use_se=hp.Boolean('use_se_1'),\n",
    "                dropout_rate=hp.Float('conv6_dropout_rate_1', min_value=0.0, max_value=0.2, step=0.1))\n",
    "    x = layers.Dropout(hp.Float(f'post_dropout_rate', min_value=0.0, max_value=0.3, step=0.1))(x)\n",
    "    if hp.Boolean('use_second_mbconv6'):\n",
    "        x = MBConv6(x, hp=hp, out_channels=hp.Int('out_channels_2', min_value=20, max_value=44, step=12),\n",
    "                expansion=hp.Int('expansion_2', min_value=4, max_value=8, step=2),\n",
    "                use_se=hp.Boolean('use_se_2'),\n",
    "                dropout_rate=hp.Float('conv6_dropout_rate_2', min_value=0.0, max_value=0.2, step=0.1))\n",
    "        x = layers.Dropout(hp.Float(f'post_dropout_rate', min_value=0.0, max_value=0.3, step=0.1))(x)\n",
    "    x = layers.Conv2D(filters=hp.Int('conv_filter', min_value=32, max_value=96, step=64),\n",
    "                      kernel_size=hp.Choice('conv_kernel', values=[3,  7]),\n",
    "                      activation=activation_function, padding='same',\n",
    "                      kernel_regularizer=kernel_regularizer=keras.regularizers.l2(hp.Choice('l2_reg_value', values=[0.0, 0.003, 0.006, 0.009, 0.015, 0.03])) if hp.Boolean('l2_reg') else None)(x)\n",
    "    x = layers.BatchNormalization()(x)\n",
    "    x = layers.MaxPool2D()(x)\n",
    "    x = layers.Conv2D(filters=hp.Int('conv_filter', min_value=32, max_value=96, step=64),\n",
    "                      kernel_size=hp.Choice('conv_kernel', values=[3,  7]),\n",
    "                      activation=activation_function, padding='same',\n",
    "                      kernel_regularizer=kernel_regularizer=keras.regularizers.l2(hp.Choice('l2_reg_value', values=[0.0, 0.003, 0.006, 0.009, 0.015, 0.03])) if hp.Boolean('l2_reg') else None)(x)\n",
    "    if hp.Boolean('use_maxpool'):\n",
    "        x = layers.MaxPool2D()(x)\n",
    "    x = layers.MaxPool2D()(x)\n",
    "    x = layers.BatchNormalization()(x)\n",
    "    x = layers.Flatten()(x)\n",
    "    \n",
    "\n",
    "    for i in range(hp.Int('num_dense_layers', min_value=10, max_value=18, step=2)):   \n",
    "        x = layers.Dense(hp.Int(f'dense_units', min_value=256, max_value=512, step=256),\n",
    "                         activation=activation_function,\n",
    "                         kernel_regularizer=kernel_regularizer=keras.regularizers.l2(hp.Choice('l2_reg_value', values=[0.0, 0.003, 0.006, 0.009, 0.015, 0.03])) if hp.Boolean('l2_reg') else None)(x)\n",
    "        x = layers.Dropout(hp.Float(f'dropout_{i}_rate', min_value=0.0, max_value=0.6, step=0.1))(x)\n",
    "    \n",
    "    x = layers.Dense(1, activation='sigmoid')(x)\n",
    "    \n",
    "    optimizer = tf.keras.optimizers.Adam(learning_rate=hp.Float('learning_rate', min_value=0.001, max_value=0.03, sampling='LOG'),\n",
    "                                         epsilon=0.01)\n",
    "    model = Model(inputs=input_tensor, outputs=x)\n",
    "    model.compile(optimizer=optimizer,\n",
    "                  loss='binary_crossentropy',\n",
    "                  metrics=['binary_accuracy'])\n",
    "    return model\n"
   ]
  },
  {
   "cell_type": "code",
   "execution_count": null,
   "metadata": {
    "papermill": {
     "duration": 0.582568,
     "end_time": "2024-03-03T12:42:48.319123",
     "exception": false,
     "start_time": "2024-03-03T12:42:47.736555",
     "status": "completed"
    },
    "tags": []
   },
   "outputs": [],
   "source": [
    "tuner = Hyperband(\n",
    "    build_model,\n",
    "    objective='val_binary_accuracy',\n",
    "    max_epochs=45,\n",
    "    factor=3,\n",
    "    directory='/kaggle/working/projects',\n",
    "    project_name='cifake_hyperband_2')"
   ]
  },
  {
   "cell_type": "code",
   "execution_count": null,
   "metadata": {
    "papermill": {
     "duration": 25354.009211,
     "end_time": "2024-03-03T19:45:22.337768",
     "exception": false,
     "start_time": "2024-03-03T12:42:48.328557",
     "status": "completed"
    },
    "tags": []
   },
   "outputs": [],
   "source": [
    "# Start the hyperparameter search with early stopping\n",
    "tuner.search(ds_train, epochs=45, validation_data=ds_valid, callbacks=[early_stopping, tensorboard, reduce_lr, model_checkpoint])\n",
    "\n",
    "best_model = tuner.get_best_models(num_models=1)[0]"
   ]
  },
  {
   "cell_type": "code",
   "execution_count": null,
   "metadata": {
    "papermill": {
     "duration": 0.07513,
     "end_time": "2024-03-03T19:45:22.422549",
     "exception": false,
     "start_time": "2024-03-03T19:45:22.347419",
     "status": "completed"
    },
    "tags": []
   },
   "outputs": [],
   "source": [
    "best_model.summary()"
   ]
  },
  {
   "cell_type": "code",
   "execution_count": null,
   "metadata": {
    "papermill": {
     "duration": 0.021172,
     "end_time": "2024-03-03T19:45:22.453855",
     "exception": false,
     "start_time": "2024-03-03T19:45:22.432683",
     "status": "completed"
    },
    "tags": []
   },
   "outputs": [],
   "source": [
    "tuner.results_summary()"
   ]
  },
  {
   "cell_type": "code",
   "execution_count": null,
   "metadata": {
    "papermill": {
     "duration": 0.131501,
     "end_time": "2024-03-03T19:45:22.595569",
     "exception": false,
     "start_time": "2024-03-03T19:45:22.464068",
     "status": "completed"
    },
    "tags": []
   },
   "outputs": [],
   "source": [
    "best_model.save(f\"/kaggle/working/BEST{NAME}.keras\")"
   ]
  },
  {
   "cell_type": "code",
   "execution_count": null,
   "metadata": {
    "papermill": {
     "duration": 0.010447,
     "end_time": "2024-03-03T19:45:22.617867",
     "exception": false,
     "start_time": "2024-03-03T19:45:22.607420",
     "status": "completed"
    },
    "tags": []
   },
   "outputs": [],
   "source": []
  }
 ],
 "metadata": {
  "kaggle": {
   "accelerator": "nvidiaTeslaT4",
   "dataSources": [
    {
     "datasetId": 3041726,
     "sourceId": 5256696,
     "sourceType": "datasetVersion"
    },
    {
     "datasetId": 4566889,
     "sourceId": 7843591,
     "sourceType": "datasetVersion"
    }
   ],
   "isGpuEnabled": true,
   "isInternetEnabled": true,
   "language": "python",
   "sourceType": "notebook"
  },
  "kernelspec": {
   "display_name": "Python 3 (ipykernel)",
   "language": "python",
   "name": "python3"
  },
  "language_info": {
   "codemirror_mode": {
    "name": "ipython",
    "version": 3
   },
   "file_extension": ".py",
   "mimetype": "text/x-python",
   "name": "python",
   "nbconvert_exporter": "python",
   "pygments_lexer": "ipython3",
   "version": "3.10.13"
  },
  "papermill": {
   "default_parameters": {},
   "duration": 25609.356253,
   "end_time": "2024-03-03T19:45:26.819985",
   "environment_variables": {},
   "exception": null,
   "input_path": "__notebook__.ipynb",
   "output_path": "__notebook__.ipynb",
   "parameters": {},
   "start_time": "2024-03-03T12:38:37.463732",
   "version": "2.5.0"
  }
 },
 "nbformat": 4,
 "nbformat_minor": 4
}
